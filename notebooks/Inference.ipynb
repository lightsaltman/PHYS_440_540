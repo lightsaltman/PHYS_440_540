{
 "cells": [
  {
   "cell_type": "markdown",
   "metadata": {
    "editable": true,
    "slideshow": {
     "slide_type": "slide"
    },
    "tags": []
   },
   "source": [
    "# Classical Inference\n",
    "\n",
    "G. Richards \n",
    "(2016, 2018, 2020, 2022, 2024)\n",
    "with material from Ivezic [Sections 4.0, 4.1, 4.2, 4.3, 4.5, 5.0, 5.1, 5.2], Bevington, and Leighly.  With updates to my own class from [Stephen Taylor's class at Vanderbilt](https://github.com/VanderbiltAstronomy/astr_8070_s24); note that we'll cover in just 2 lectures what they cover in 8 (starting with their Lecture 5), so see those notebooks if you'd like more detail.\n",
    "\n",
    "### Reading:\n",
    "\n",
    "- [Textbook](http://press.princeton.edu/titles/10159.html) Chapters 4 and 5.\n",
    "- [David Hogg's \"Fitting A Model To Data\"](https://arxiv.org/abs/1008.4686)\n",
    "- [Jake VanderPlas's workshop \"Bayesian Astronomy\"](https://github.com/jakevdp/BayesianAstronomy)\n",
    "- [Jake VanderPlas's blog \"Frequentism and Bayesianism: A Practical Introduction\"](http://jakevdp.github.io/blog/2014/03/11/frequentism-and-bayesianism-a-practical-intro/)\n",
    "\n",
    "\n",
    "### Supplemental background reading:\n",
    "\n",
    "- [Jake VanderPlas: \"Frequentism and Bayesianism: A Python-driven Primer\"](https://arxiv.org/abs/1411.5018)\n",
    "- [Hogg, Bovy and Lang: \"Data analysis recipes: Fitting a model to data\"](https://arxiv.org/abs/1008.4686)\n"
   ]
  },
  {
   "cell_type": "markdown",
   "metadata": {
    "editable": true,
    "slideshow": {
     "slide_type": "slide"
    },
    "tags": []
   },
   "source": [
    "## Contents\n",
    "* [Statistical Inference](#one)\n",
    "* [Maximum Likelihood Estimation](#two)\n",
    "* [MLE Applied To A Homoscedastic Gaussian](#three)\n",
    "* [Quantifying Estimate Uncertainty](#four)\n",
    "* [Confidence Intervals](#five)\n",
    "* [MLE Applied To A Heteroscedastic Gaussian](#six)\n",
    "* [Aside: Cost Functions](#seven)\n",
    "* [Goodness of Fit](#eight)\n",
    "* [Example: Polynomial Fitting](#nine) \n",
    "* [Model Comparison](#ten)\n",
    "* [Hypothesis Testing](#eleven)"
   ]
  },
  {
   "cell_type": "markdown",
   "metadata": {
    "editable": true,
    "slideshow": {
     "slide_type": "notes"
    },
    "tags": []
   },
   "source": [
    "Note: This is in Vanderbilt, Lecture 5"
   ]
  },
  {
   "cell_type": "markdown",
   "metadata": {
    "editable": true,
    "slideshow": {
     "slide_type": "slide"
    },
    "tags": []
   },
   "source": [
    "## Statistical Inference <a class=\"anchor\" id=\"one\"></a>\n",
    "\n",
    "\n",
    "Statistical **inference** is about drawing conclusions from data, specifically determining the properties of a population by data sampling.  \n",
    "\n",
    "Three examples of inference are:\n",
    "* What is the best estimate for a model parameter?\n",
    "* How confident we are about our result?\n",
    "* Are the data consistent with a particular model/hypothesis?"
   ]
  },
  {
   "cell_type": "markdown",
   "metadata": {
    "editable": true,
    "slideshow": {
     "slide_type": "slide"
    },
    "tags": []
   },
   "source": [
    "### Some Terminology\n",
    "\n",
    "* We typically study the properties of some ***population*** by measuring ***samples*** from that population. \n",
    "* A ***statistic*** is any function of the sample. For example, the sample mean is a statistic. But also, \"the value of the first measurement\" is also a statistic.\n",
    "* To conclude something about the population from the sample, we develop ***estimators***. An estimator is a statistic based on observed data.\n",
    "* There are ***point*** and ***interval estimators***. Point estimators yield single-valued results (example: the position of an object), while with an interval estimator, the result would be a range of plausible values (example: confidence interval for the position of an object).\n",
    "* Measurements have **uncertainties** (not errors) and we need to account for these (sometimes they are unknown).  Data are not variables but fixed values."
   ]
  },
  {
   "cell_type": "markdown",
   "metadata": {
    "editable": true,
    "slideshow": {
     "slide_type": "slide"
    },
    "tags": []
   },
   "source": [
    "### Frequentist vs. Bayesian Inference\n",
    "\n",
    "There are two major statistical paradigms that address the statistical inference questions: \n",
    "- the **classical**, or **frequentist** paradigm,\n",
    "- the **Bayesian** paradigm.\n",
    "\n",
    "While most of statistics and machine learning is based on the classical paradigm, Bayesian techniques are being embraced by the statistical and scientific communities at an ever-increasing pace...especially in astrophysics.\n",
    "\n",
    "For more insight see [Jake VanderPlas's blog \"Frequentism and Bayesianism: A Practical Introduction](http://jakevdp.github.io/blog/2014/03/11/frequentism-and-bayesianism-a-practical-intro/)."
   ]
  },
  {
   "cell_type": "markdown",
   "metadata": {
    "editable": true,
    "slideshow": {
     "slide_type": "slide"
    },
    "tags": []
   },
   "source": [
    "#### Key differences\n",
    "- **Definition of probabilities**:\n",
    "    - In ***frequentist inference***, probabilities describe the ***relative frequency of events*** over repeated experimental trials. \n",
    "    - In ***Bayesian inferenece***, probabilities instead quantify our ***subjective belief about experimental outcomes, model parameters, or even models themselves***. \n",
    "    \n",
    "In short, classical (frequentist) statistics is concerned with the frequency with which $A$  happens in identical repeats of an experiment, i.e., $p(A)$. Bayesian statistics is concerned instead with $p(A|B)$, which is how plausible it is for $A$ to happen given the knowledge that $B$ has happened (or is true).     \n",
    "    \n",
    "- **Quantifying uncertainty**:\n",
    "    - In ***frequentist inference*** we have ***confidence levels*** that describe the distribution of the measured parameter from the data around the true value.\n",
    "    - In ***Bayesian inference*** we have ***credible regions*** derived from posterior probabilitiy distributions (we'll meet these later). These encode our \"***belief spread***\" in model parameters. "
   ]
  },
  {
   "cell_type": "markdown",
   "metadata": {
    "editable": true,
    "slideshow": {
     "slide_type": "slide"
    },
    "tags": []
   },
   "source": [
    "#### Example\n",
    "\n",
    "My colleague, Karen Leighly, dug up the following article, which might help one to understand the differences in these approaches in a relatively simply way.  The first 4 sections are what is relevant here.\n",
    "[Efron 1978](http://www.jstor.org/stable/2321163?seq=1#page_scan_tab_contents)\n",
    "\n",
    "I'll briefly (and perhaps too cavalierly) summarize it.\n",
    "\n",
    "Let's say that you get the results of an IQ test.  Any given test result might not give you your \"real\" IQ.  But it gives us a way to *estimate* it (and the possible range of values).  \n",
    "\n",
    "For a frequentist, the best estimator is just the average of many test results.  So, if you took 5 IQ tests and got a sample mean of 160, then that would be the estimator of your true IQ.\n",
    "\n",
    "On the other hand, a Bayesian would say: \"but wait, I know that IQ tests are normed to 100 with a standard deviation of 15 points\".  So they will use that as \"prior\" information, which is important here since 160 is a 4$\\sigma$ outlier. \n",
    "\n",
    "There's nothing mysterious about priors. It simply encodes any previous knowledge or information we have about our experiment.\n"
   ]
  },
  {
   "cell_type": "code",
   "execution_count": null,
   "metadata": {
    "editable": true,
    "slideshow": {
     "slide_type": "slide"
    },
    "tags": []
   },
   "outputs": [],
   "source": [
    "import astroML\n",
    "#from astroML.plotting import setup_text_plots\n",
    "print(astroML.__version__)"
   ]
  },
  {
   "cell_type": "code",
   "execution_count": null,
   "metadata": {
    "editable": true,
    "slideshow": {
     "slide_type": "slide"
    },
    "tags": []
   },
   "outputs": [],
   "source": [
    "# Execute this cell\n",
    "#%config InlineBackend.figure_format='retina'\n",
    "import numpy as np\n",
    "from scipy.stats import norm\n",
    "from matplotlib import pyplot as plt\n",
    "\n",
    "from astroML.plotting import setup_text_plots\n",
    "setup_text_plots(fontsize=10, usetex=False)"
   ]
  },
  {
   "cell_type": "markdown",
   "metadata": {
    "editable": true,
    "slideshow": {
     "slide_type": "slide"
    },
    "tags": []
   },
   "source": [
    "<font color=\"red\">Complete and execute the following cell. It will show the simple average of IQ tests, the prior distribution one would use in a Bayesian analysis, and the final Bayesian posterior \"belief\" distribution.</font>"
   ]
  },
  {
   "cell_type": "code",
   "execution_count": null,
   "metadata": {
    "editable": true,
    "slideshow": {
     "slide_type": ""
    },
    "tags": []
   },
   "outputs": [],
   "source": [
    "#------------------------------------------------------------\n",
    "# Define the distributions to be plotted\n",
    "sigma_values = [____, 6.7, 1] #complete with the prior width of IQ distribution\n",
    "linestyles = ['--', '-', ':']\n",
    "mu_values = [____, 148, 160] #complete with the prior mean of IQ distribution\n",
    "labeltext = ['prior dist.', 'posterior dist.', 'observed mean']\n",
    "xplot = np.linspace(50, 200, 1000)\n",
    "\n",
    "#------------------------------------------------------------\n",
    "# plot the distributions\n",
    "fig, ax = plt.subplots(figsize=(10, 7.5))\n",
    "\n",
    "for sigma, ls, mu, lab in zip(sigma_values, linestyles, mu_values, labeltext):\n",
    "    # create a gaussian / normal distribution\n",
    "    dist = norm(mu, sigma)\n",
    "\n",
    "    if (sigma>1):\n",
    "        plt.plot(xplot, dist.pdf(xplot), ls=ls, c='black',label=r'%s $\\mu=%i,\\ \\sigma=%.1f$' % (lab, mu, sigma))\n",
    "    else:\n",
    "        plt.plot([159.9,160.1],[0,0.8], ls=ls, color='k', label=r'%s $\\mu=%i$' % (lab, mu))\n",
    "        \n",
    "plt.xlim(50, 200)\n",
    "plt.ylim(0, 0.1)\n",
    "plt.xlabel('$x$')\n",
    "plt.ylabel(r'$p(x|\\mu,\\sigma)$')\n",
    "plt.title('Gaussian Distribution')\n",
    "plt.legend()"
   ]
  },
  {
   "cell_type": "markdown",
   "metadata": {
    "editable": true,
    "slideshow": {
     "slide_type": "fragment"
    },
    "tags": []
   },
   "source": [
    "The end result (skipping over the detailed math) is that the Bayesian estimate of the IQ is not 160, but rather 148, or more specifically that $p(141.3\\le \\mu \\le 154.7 \\, | \\, \\overline{x}=160) = 0.683$.\n",
    "\n",
    "That's actually fine, where the controvery comes in is when the Bayesian wants to do the same things but doesn't actually know the prior distribution, or when the parameter is fixed but we are trying to experimentally verify it (e.g., the speed of light)."
   ]
  },
  {
   "cell_type": "markdown",
   "metadata": {
    "editable": true,
    "slideshow": {
     "slide_type": "slide"
    },
    "tags": []
   },
   "source": [
    "## Maximum Likelihood Estimation (MLE), Ivezic 4.2  <a class=\"anchor\" id=\"two\"></a>\n",
    "\n",
    "Let's not worry about classical vs. Bayesian right now and talk about maximum likelihood estimation (Ivezic, 4.2), which is relevant to both.\n",
    "\n",
    "Maximum likelihood estimation follows this blueprint:\n",
    "\n",
    "1. **Hypothesis**: Formulate a model, a *hypothesis*, about how the data are generated. For example, the data are a measurement of some quantity with Gaussian random uncertainties (i.e., each measurement is equal to the true value, plus a deviation randomly drawn from the normal distribution). Models are typically described using a set of model parameters $\\boldsymbol{\\theta}$, and written as $\\boldsymbol{M}(\\boldsymbol{\\theta})$.\n",
    "\n",
    "\n",
    "2. **Maximum Likelihood Estimation**: Search for the \"best\" model parameters $\\boldsymbol{\\theta}$ which maximize the ***likelihood*** $L(\\boldsymbol{\\theta}) \\equiv p(D|M)$. This search yields the MLE *point estimates*, $\\boldsymbol{\\theta^0}$.\n",
    "\n",
    "\n",
    "3. **Quantifying Estimate Uncertainty**: Determine the confidence region for model parameters, $\\boldsymbol{\\theta^0}$. Such a confidence estimate can be obtained analytically (possibly with some approximations), but can also be done numerically for arbitrary models using general frequentist techniques, such as bootstrap, jackknife, and cross-validation (we'll come to these later).\n",
    "\n",
    "\n",
    "4. **Hypothesis Testing**: Perform hypothesis tests as needed to make other conclusions about models and point estimates. Possibly GOTO #1."
   ]
  },
  {
   "cell_type": "markdown",
   "metadata": {
    "editable": true,
    "slideshow": {
     "slide_type": "slide"
    },
    "tags": []
   },
   "source": [
    "### Example: Measuring the Position of a Quasar\n",
    "\n",
    "Let's assume we wish to estimate the position, $x$, of a quasar from a series of individual astrometric measurements.\n",
    "\n",
    "1. We adopt a model where the observed quasar does not move, and has individual measurement uncertainties \n",
    "2. We derive the expression for the likelihood of there being a quasar at position $x_0$ that gives rise to our individual measurements. We find the value of $\\hat x_0$ for which our observations are maximally likely.\n",
    "3. We determine the uncertainties (confidence intervals) on our measurement.\n",
    "4. We test whether what we've observed is consistent with our adopted model. For example, is it possible that the quasar was really a misidentified star with measurable proper motion?\n",
    "\n",
    "Note: in the text to come, I will use $\\mu$ instead of $x_0$ to denote the true position of the quasar. This is to avoid potential confusion with the first (or zeroth) measurement of $x$."
   ]
  },
  {
   "cell_type": "markdown",
   "metadata": {
    "editable": true,
    "slideshow": {
     "slide_type": "slide"
    },
    "tags": []
   },
   "source": [
    "### The Likelihood Function\n",
    "\n",
    "If we know the distribution from which our data were drawn, then we can compute the **probability** of our data.  \n",
    "\n",
    "For example if you know that your data are drawn from a model with a Gaussian distribution, then we've already seen that the probablity of getting a specific value of $x$ is given by\n",
    "$$p(x|\\mu,\\sigma) = \\frac{1}{\\sigma\\sqrt{2\\pi}} \\exp\\left(\\frac{-(x-\\mu)^2}{2\\sigma^2}\\right).$$"
   ]
  },
  {
   "cell_type": "code",
   "execution_count": null,
   "metadata": {
    "editable": true,
    "slideshow": {
     "slide_type": "slide"
    },
    "tags": []
   },
   "outputs": [],
   "source": [
    "# Execute this cell\n",
    "#------------------------------------------------------------\n",
    "# plot the distributions\n",
    "fig, ax = plt.subplots(figsize=(10, 7.5))\n",
    "dist = norm(5, 1)\n",
    "x = np.linspace(0, 10, 1000)\n",
    "plt.plot(x, dist.pdf(x), c='black',label=r'$\\mu=5,\\ \\sigma=1$')\n",
    "\n",
    "plt.xlim(0, 10)\n",
    "plt.ylim(0, 0.5)\n",
    "\n",
    "plt.xlabel('$x$')\n",
    "plt.ylabel(r'$p(x|\\mu=5,\\sigma=1)$')\n",
    "plt.title('Probability of $x$')\n",
    "\n",
    "plt.legend()"
   ]
  },
  {
   "cell_type": "code",
   "execution_count": null,
   "metadata": {
    "editable": true,
    "slideshow": {
     "slide_type": "fragment"
    },
    "tags": []
   },
   "outputs": [],
   "source": [
    "# useful to know you can do this...\n",
    "norm?"
   ]
  },
  {
   "cell_type": "markdown",
   "metadata": {
    "editable": true,
    "slideshow": {
     "slide_type": "slide"
    },
    "tags": []
   },
   "source": [
    "If we want to know the total **likelihood** of our *entire* data set (as opposed to one measurement) then we must compute the *product* of all the individual probabilities:\n",
    "$$L \\equiv p(\\{x_i\\}|M(\\theta)) = \\prod_{i=1}^n p(x_i|M(\\theta)),$$\n",
    "where $M$ refers to the *model* and $\\theta$ refers collectively to the $k$ parameters of the model, which can be multi-dimensional.\n",
    "\n",
    "In words, this is *the probability of the data given the model*.\n",
    "\n",
    "Note:\n",
    "- while the components of $L$ may be normalized pdfs, their product is not.\n",
    "- the product can be very small, so we often take the log of $L$. \n",
    "- we're assuming the individual measurements are independent of each other."
   ]
  },
  {
   "cell_type": "markdown",
   "metadata": {
    "editable": true,
    "slideshow": {
     "slide_type": "notes"
    },
    "tags": []
   },
   "source": [
    "Note: My use of the term \"likelihood\" here disagrees with some common usage, but I'd argue that it is fine for our purposes."
   ]
  },
  {
   "cell_type": "markdown",
   "metadata": {
    "editable": true,
    "slideshow": {
     "slide_type": "slide"
    },
    "tags": []
   },
   "source": [
    "We can write this out as\n",
    "$$L = \\prod_{i=1}^n \\frac{1}{\\sigma\\sqrt{2\\pi}} \\exp\\left(\\frac{-(x_i-\\mu)^2}{2\\sigma^2}\\right),$$\n",
    "and simplify to\n",
    "$$L = \\prod_{i=1}^n \\left( \\frac{1}{\\sigma\\sqrt{2\\pi}} \\right) \\exp\\left( -\\frac{1}{2} \\sum \\left[\\frac{-(x_i-\\mu)}{\\sigma} \\right]^2 \\right),$$\n",
    "\n",
    "where we have written the product of the exponentials as the exponential of the sum of the arguments, which will make things easier to deal with later.\n",
    "\n",
    "That is, we have done this: $$\\prod_{i=1}^n A_i \\exp(-B_i) = (A_iA_{i+1}\\ldots A_n) \\exp[-(B_i+B_{i+1}+\\ldots+B_n)]$$"
   ]
  },
  {
   "cell_type": "markdown",
   "metadata": {
    "editable": true,
    "slideshow": {
     "slide_type": "slide"
    },
    "tags": []
   },
   "source": [
    "If you have done $\\chi^2$ analysis (e.g., doing a linear least-squares fit), then you might notice that the argument of the exponential is just \n",
    "$$\\exp \\left(-\\frac{\\chi^2}{2}\\right).$$\n",
    "\n",
    "That is, for our gaussian distribution\n",
    "$$\\chi^2 = \\sum_{i=1}^n \\left ( \\frac{x_i-\\mu}{\\sigma}\\right)^2.$$\n",
    "\n",
    "So, maximizing the likelihood is the same as minimizing $\\chi^2$.  In both cases we are finding the most likely values of our model parameters (here $\\mu$ and $\\sigma$).  "
   ]
  },
  {
   "cell_type": "markdown",
   "metadata": {
    "editable": true,
    "slideshow": {
     "slide_type": "slide"
    },
    "tags": []
   },
   "source": [
    "### The Key Idea Behind Maximum Likelihood Estimation\n",
    "\n",
    "Let's say that we know that some data were drawn from a Gaussian distribution, but we don't know the $\\theta = (\\mu,\\sigma)$ values of that distribution (i.e., the parameters), then MLE is about varying the parameters until we find the maximal value of $L$ (i.e., the **maximum likelihood**).  Those model parameters will also minimize $\\chi^2$, and will be our *Maximum Likelihood Estimators* for for the true values of the model.\n",
    "\n",
    "Simple as that.  Stop and make sure that you understand this."
   ]
  },
  {
   "cell_type": "markdown",
   "metadata": {
    "editable": true,
    "slideshow": {
     "slide_type": "slide"
    },
    "tags": []
   },
   "source": [
    "Here's [an animation of linear least squares fitting](https://yihui.org/animation/example/least-squares/).\n",
    "\n",
    "They are trying to fit a line to some data.  They start by fixing the interecept and then trying 50 different values of the slope.  The red dashed lines show the difference (*residual*) between the predicted value and the actual value.  These are squared and summed (residual sum of squares, or $\\chi^2$) and plotted as the y axis in the right hand plot.  You see $\\chi^2$ going down as the slope changes, bottoming out at the best slope (presumably with $\\chi^2 \\sim 1$, but we can't tell from the scale shown).  Then $\\chi^2$ goes back up after we have passed through the best slope.\n",
    "\n",
    "With the best slope determined, we then try different values of the intercept, choosing the one that minimizes $\\chi^2$."
   ]
  },
  {
   "cell_type": "markdown",
   "metadata": {
    "editable": true,
    "slideshow": {
     "slide_type": "slide"
    },
    "tags": []
   },
   "source": [
    "A simple example would be the likelihood of rolling a certain combination of numbers on a six-sided die.\n",
    "The probability of rolling a 3 is $1/6$ (as is the probability of *any* roll).  So, what is the probability of rolling (in no particular order): {1,1,2,3,3,3,4,5,6,6}?  "
   ]
  },
  {
   "cell_type": "code",
   "execution_count": null,
   "metadata": {
    "editable": true,
    "slideshow": {
     "slide_type": "slide"
    },
    "tags": []
   },
   "outputs": [],
   "source": [
    "print((1./6)*(1./6)*(1./6)*(1./6)*(1./6)*(1./6)*(1./6)*(1./6)*(1./6)*(1./6))\n",
    "print((1./6)**10)"
   ]
  },
  {
   "cell_type": "markdown",
   "metadata": {
    "editable": true,
    "slideshow": {
     "slide_type": "slide"
    },
    "tags": []
   },
   "source": [
    "So, even for 10 rolls of the die, the likelihood is pretty small.  That's just because there are *lots* of possible combinations of rolling a die 10 times.  This particular series of numbers is just as likely as any other.  \n",
    "\n",
    "Students who took PHYS 114 with me will recall that the result is related to the number of *combinations* ($n$ choose $r$)."
   ]
  },
  {
   "cell_type": "markdown",
   "metadata": {
    "editable": true,
    "slideshow": {
     "slide_type": ""
    },
    "tags": []
   },
   "source": [
    "<font color=\"red\">Complete the next cell to generate some code to compute the propobability for N rolls of a die.</font>"
   ]
  },
  {
   "cell_type": "code",
   "execution_count": null,
   "metadata": {
    "editable": true,
    "slideshow": {
     "slide_type": "slide"
    },
    "tags": []
   },
   "outputs": [],
   "source": [
    "# Write some code to compute the probability for N rolls\n",
    "import numpy as np\n",
    "N=____ #Number of rolls\n",
    "L=____ #Likelihood, initialize to unity\n",
    "rolls = np.array([])\n",
    "for i in np.arange(____): #Loop over each roll\n",
    "    #Append a single new roll to \"rolls\" between 1 and 6 (careful) to the rolls array\n",
    "    rolls = np.append(____,np.random.randint(low=____,high=____,size=____))\n",
    "    L = L*(1./6) #The likelihood of each roll is 1/6\n",
    "print(L,rolls)"
   ]
  },
  {
   "cell_type": "markdown",
   "metadata": {
    "editable": true,
    "slideshow": {
     "slide_type": "slide"
    },
    "tags": []
   },
   "source": [
    "## MLE applied to a Homoscedastic Gaussian (Ivezic 4.2.3)  <a class=\"anchor\" id=\"three\"></a>\n",
    "\n",
    "Let's take a look at an example using a Gaussian model where all the measurements have the same error ($\\sigma$).  This is known as having **homoscedastic** errors.  Don't be intimidated by the fancy word, statisticians just like to sound smart, so they say \"homoscedastic\" instead of \"uniform errors\".  Later we will consider the case where the measurements can have different errors ($\\sigma_i$) which is called **heteroscedastic**."
   ]
  },
  {
   "cell_type": "markdown",
   "metadata": {
    "editable": true,
    "slideshow": {
     "slide_type": "fragment"
    },
    "tags": []
   },
   "source": [
    "For an experiment with data $D=\\{x_i\\}$ in 1D with Gaussian errors, we have\n",
    "$$L \\equiv p(\\{x_i\\}|\\mu,\\sigma) = \\prod_{i=1}^N \\frac{1}{\\sigma\\sqrt{2\\pi}} \\exp\\left(\\frac{-(x_i-\\mu)^2}{2\\sigma^2}\\right).$$\n",
    "\n",
    "Note that that is $p(\\{x_i\\})$ not $p(x_i)$, that is the probability of the full data set, not just one measurement.\n",
    "\n",
    "If $\\sigma$ is both constant and *known*, then this is a one parameter model with $k=1$ and $\\theta_1=\\mu$. "
   ]
  },
  {
   "cell_type": "markdown",
   "metadata": {
    "editable": true,
    "slideshow": {
     "slide_type": "fragment"
    },
    "tags": []
   },
   "source": [
    "As we found above, likelihoods can be really small, so let's define the **log-likelihood function** as ${\\rm lnL} = \\ln[L(\\theta)]$.  The maximum of this function happens at the same place as the maximum of $L$.  Note that any constants in $L$ have the same effect for all model parameters, so constant terms can be ignored.  \n",
    "\n",
    "In this case we then have $${\\rm lnL} = {\\rm constant} - \\sum_{i=1}^N \\frac{(x_i - \\mu)^2}{2\\sigma^2}.$$\n",
    "\n",
    "Take a second and make sure that you understand how we got there.  It might help to remember that above, we wrote\n",
    "$$L = \\prod_{i=1}^n \\left( \\frac{1}{\\sigma\\sqrt{2\\pi}} \\right) \\exp\\left( -\\frac{1}{2} \\sum \\left[\\frac{-(x_i-\\mu)}{\\sigma} \\right]^2 \\right).$$"
   ]
  },
  {
   "cell_type": "markdown",
   "metadata": {
    "editable": true,
    "slideshow": {
     "slide_type": "fragment"
    },
    "tags": []
   },
   "source": [
    "We then determine the maximum in the same way that we always do.  It is the parameter set for which the derivative of ${\\rm lnL}$ is zero:\n",
    "$$\\frac{d\\;{\\rm lnL}(\\mu)}{d\\mu}\\Biggr\\rvert_{\\hat \\mu} \\equiv 0.$$\n",
    "\n",
    "That gives $$ \\sum_{i=1}^N \\frac{(x_i - \\hat \\mu)}{\\sigma^2} = 0.$$"
   ]
  },
  {
   "cell_type": "markdown",
   "metadata": {
    "editable": true,
    "slideshow": {
     "slide_type": "fragment"
    },
    "tags": []
   },
   "source": [
    "Since $\\sigma = {\\rm constant}$ (at least in this case), that says \n",
    "$$\\sum_{i=1}^N x_i = \\sum_{i=1}^N \\hat \\mu = N \\hat \\mu.$$\n",
    "\n",
    "Thus we find that\n",
    "$$\\hat \\mu = \\frac{1}{N}\\sum_{i=1}^N x_i,$$\n",
    "which is just the arithmetic mean of all the measurements.\n",
    "\n",
    "As promised last week, that's where the formula that you know and love for the mean comes from."
   ]
  },
  {
   "cell_type": "markdown",
   "metadata": {
    "editable": true,
    "slideshow": {
     "slide_type": "slide"
    },
    "tags": []
   },
   "source": [
    "### The Sample Mean is an ML Estimator\n",
    "\n",
    "So the **sample mean** ($\\overline{x} = \\hat \\mu$) of observations drawn from a $\\mathscr{N}(\\mu, \\sigma=const)$ distribution is a maximum-likelihood **estimator** of the distribution's $\\mu$ parameter.  We'd intuitively guess that, but this derivation clarifies our choice."
   ]
  },
  {
   "cell_type": "markdown",
   "metadata": {
    "editable": true,
    "slideshow": {
     "slide_type": "slide"
    },
    "tags": []
   },
   "source": [
    "As we just discussed, in an experiment with data $D=\\{x_i\\}$ in 1D with Gaussian errors, we have\n",
    "$$L \\equiv p(\\{x_i\\}|\\mu,\\sigma) = \\prod_{i=1}^N \\frac{1}{\\sigma\\sqrt{2\\pi}} \\exp\\left(\\frac{-(x_i-\\mu)^2}{2\\sigma^2}\\right).$$\n",
    "\n",
    "Let's create some data and see what the resulting likelihood looks like for some example points."
   ]
  },
  {
   "cell_type": "code",
   "execution_count": null,
   "metadata": {
    "editable": true,
    "slideshow": {
     "slide_type": "slide"
    },
    "tags": []
   },
   "outputs": [],
   "source": [
    "#Load up the algorithms we are going to need.\n",
    "import numpy as np\n",
    "from matplotlib import pyplot as plt\n",
    "from scipy.stats import norm"
   ]
  },
  {
   "cell_type": "markdown",
   "metadata": {
    "editable": true,
    "slideshow": {
     "slide_type": "slide"
    },
    "tags": []
   },
   "source": [
    "We are going to draw a homoscedastic sample of ${x_i}$ from a Gaussian and compute the likelihood.\n",
    "\n",
    "First generate a sample of `N=3` points drawn from a normal distribution with `mu=1.0` and `sigma=0.2`: $\\mathscr{N}(\\mu,\\sigma)$"
   ]
  },
  {
   "cell_type": "code",
   "execution_count": null,
   "metadata": {
    "editable": true,
    "slideshow": {
     "slide_type": "slide"
    },
    "tags": []
   },
   "outputs": [],
   "source": [
    "N = ___ #Complete\n",
    "mu = ___\n",
    "sigma = ___ \n",
    "np.random.seed(42)\n",
    "sample = norm(___,___).rvs(___)\n",
    "print(sample)"
   ]
  },
  {
   "cell_type": "markdown",
   "metadata": {
    "editable": true,
    "slideshow": {
     "slide_type": "slide"
    },
    "tags": []
   },
   "source": [
    "Think back to Lecture 2 when we did a Kernel Density Estimate.  Treat each of those observations as an estimate of the true distribution.  So, we are going to center a Gaussian (with the known $\\sigma$) at each point, this is the likelihood $p(x_i|\\mu,\\sigma)$.\n",
    "\n",
    "Plot each of the likelihoods separately.  Also plot their product.  Make the $x$ axis a grid of 1000 points uniformly sampled between $x=0$ and $x=2$.\n",
    "\n",
    "Note that, according to [scipy.stats.norm](https://docs.scipy.org/doc/scipy/reference/generated/scipy.stats.norm.html), `norm.pdf(x, loc, scale)` is identically equivalent to `norm.pdf(y)/scale` with `y=(x-loc)/scale$`."
   ]
  },
  {
   "cell_type": "code",
   "execution_count": null,
   "metadata": {
    "editable": true,
    "slideshow": {
     "slide_type": "slide"
    },
    "tags": []
   },
   "outputs": [],
   "source": [
    "#Make the plot and see if you get the same as me.\n",
    "xgrid = np.linspace(___,___,___)\n",
    "L1 = norm.pdf(___,loc=___,scale=___) #This is a Gaussian PDF sampled uniformly, centered at a specific location.\n",
    "L2 = norm.pdf(___,loc=___,scale=___)\n",
    "L3 = norm.pdf(___,loc=___,scale=___)\n",
    "L = ___ #Total L is ???\n",
    "\n",
    "fig, ax = plt.subplots(figsize=(7, 5))\n",
    "plt.plot(____, ____, ls='-', c='green', label=r'$L(x_1)$')\n",
    "plt.plot(____, ____, ls='-', c='red', label=r'$L(x_2)$')\n",
    "plt.plot(____, ____, ls='-', c='blue', label=r'$L(x_3)$')\n",
    "plt.plot(____, ____, ls='-', c='black', label=r'$L(\\{x\\})$')\n",
    "\n",
    "plt.xlim(0.2, 1.8)\n",
    "plt.ylim(0, 8.0)\n",
    "plt.xlabel('$\\mu$') #Leave out or adjust if no latex\n",
    "plt.ylabel(r'$p(x_i|\\mu,\\sigma)$') #Leave out or adjust if no latex\n",
    "plt.title('MLE for Gaussian Distribution')\n",
    "plt.legend()"
   ]
  },
  {
   "attachments": {
    "MLEexample.jpg": {
     "image/jpeg": "[encoded data removed]"
    }
   },
   "cell_type": "markdown",
   "metadata": {
    "editable": true,
    "slideshow": {
     "slide_type": "slide"
    },
    "tags": []
   },
   "source": [
    "You should get something that looks like this:\n",
    "![MLEexample.jpg](attachment:MLEexample.jpg)"
   ]
  },
  {
   "cell_type": "markdown",
   "metadata": {
    "editable": true,
    "slideshow": {
     "slide_type": "slide"
    },
    "tags": []
   },
   "source": [
    "Now we can just read off the maximum likelihood solution. \n",
    "\n",
    "<font color=\"red\">Use `np.argsort()` to figure out the argument of the largest value and print that index of `xgrid`.</font>"
   ]
  },
  {
   "cell_type": "code",
   "execution_count": null,
   "metadata": {
    "editable": true,
    "slideshow": {
     "slide_type": "slide"
    },
    "tags": []
   },
   "outputs": [],
   "source": [
    "indices = ____.____(____)\n",
    "index_max = ____[____]\n",
    "print(\"Likelihood is maximized at %.3f\" % ____[____])"
   ]
  },
  {
   "cell_type": "markdown",
   "metadata": {
    "editable": true,
    "slideshow": {
     "slide_type": "slide"
    },
    "tags": []
   },
   "source": [
    "## Quantifying Estimated Uncertainty (Ivezic 4.2.5)  <a class=\"anchor\" id=\"four\"></a>\n",
    "\n",
    "Our ML estimate of $\\mu$ is not perfect. The uncertaintly of the estimate is captured by the likelihood function, but we'd like to quantify it with a few numbers.\n",
    "\n",
    "We *define* the uncertainty on our MLEs as second (partial) derivatives of log-likelihood:\n",
    "\n",
    "$$\\sigma_{jk} = \\left( - \\frac{d^2}{d\\theta_j} \\frac{\\ln L}{d\\theta_k} \\Biggr\\rvert_{\\theta=\\theta_0}\\right)^{-1/2}.$$\n",
    "\n",
    "The marginal error bars for each parameter, $\\theta_i$ are given by the diagonal elements, $\\sigma_{ii}$, of this **covariance matrix**."
   ]
  },
  {
   "cell_type": "markdown",
   "metadata": {
    "editable": true,
    "slideshow": {
     "slide_type": "fragment"
    },
    "tags": []
   },
   "source": [
    "In our example, the uncertainly on the mean is \n",
    "$$\\sigma_{\\mu} = \\left( - \\frac{d^2\\ln L(\\mu)}{d\\mu^2}\\Biggr\\rvert_{\\mu_0}\\right)^{-1/2}$$\n",
    "\n",
    "We find\n",
    "$$\\frac{d^2\\ln L(\\mu)}{d\\mu^2}\\Biggr\\rvert_{\\mu_0} = - \\sum_{i=1}^N\\frac{1}{\\sigma^2} = -\\frac{N}{\\sigma^2},$$\n",
    "since, again, $\\sigma = {\\rm constant}$.  \n",
    "\n",
    "Then $$\\sigma_{\\mu} = \\frac{\\sigma}{\\sqrt{N}}.$$\n",
    "\n",
    "So, our estimator of $\\mu$ is $\\overline{x}\\pm\\frac{\\sigma}{\\sqrt{N}}$, which is the result that we are already familiar with."
   ]
  },
  {
   "cell_type": "code",
   "execution_count": null,
   "metadata": {
    "editable": true,
    "slideshow": {
     "slide_type": "slide"
    },
    "tags": []
   },
   "outputs": [],
   "source": [
    "# Read, think about, and execute the following cell\n",
    "sigma_mu = np.diff(np.log(L), n=2)\n",
    "sigma_mu /= (xgrid[1]-xgrid[0])**2\n",
    "sigma_mu *= -1\n",
    "sigma_mu = 1/np.sqrt(sigma_mu)[0]\n",
    "\n",
    "print(\"Error on estimated mean is %.3f\" % sigma_mu)"
   ]
  },
  {
   "cell_type": "markdown",
   "metadata": {
    "editable": true,
    "slideshow": {
     "slide_type": "notes"
    },
    "tags": []
   },
   "source": [
    "The result for $\\sigma_{\\mu}$ has been derived by expanding $\\ln L$ in a Taylor series and retaining terms up to second order (essentially, $\\ln L$ is approximated by a parabola, or an ellipsoidal surface in multidimensional cases, around its maximum). If this expansion is exact (as is the case for a Gaussian error distribution), then we've completely captured the error information.\n",
    "\n",
    "In general, this is not the case and the likelihood surface can significantly deviate from a smooth elliptical surface. Furthermore, it often happens in practice that the likelihood surface is multimodal. It is always a good idea to visualize the likelihood surface when in doubt (see examples in §5.6 in the textbook)."
   ]
  },
  {
   "cell_type": "markdown",
   "metadata": {
    "editable": true,
    "slideshow": {
     "slide_type": "slide"
    },
    "tags": []
   },
   "source": [
    "## Confidence Intervals <a class=\"anchor\" id=\"five\"></a>\n",
    "\n",
    "The $(\\mu_0 - \\sigma_\\mu, \\mu_0 + \\sigma_\\mu)$ range gives us a **confidence interval**.\n",
    "\n",
    "In frequentist interptetation, if we repeated the same measurement a hundred times, we'd find that 68 experiments yield a result within the computed confidence interval ($1 \\sigma$ errors)."
   ]
  },
  {
   "cell_type": "markdown",
   "metadata": {
    "editable": true,
    "slideshow": {
     "slide_type": "notes"
    },
    "tags": []
   },
   "source": [
    "Note: Vanderbilt does MLE applied to a Heteroscedastic Gaussian here.  Followed by a non-Gaussian (Poisson) example."
   ]
  },
  {
   "cell_type": "markdown",
   "metadata": {
    "editable": true,
    "slideshow": {
     "slide_type": "slide"
    },
    "tags": []
   },
   "source": [
    "### Confidence Estimates: Bootstrap and Jackknife (Ivezic 4.5)\n",
    "\n",
    "We often assume that the distribution is Gaussian and our samples are large, but even if that is not the case, we can still compute good confidence intervals (e.g., $a<x<b$ with 95\\% confidence) using **resampling** strategies.\n",
    "\n",
    "Remember that we have a data set $\\{x_i\\}$ from which we have estimated the distribution as $f(x)$ for a true distribution $h(x)$.  "
   ]
  },
  {
   "cell_type": "markdown",
   "metadata": {
    "editable": true,
    "slideshow": {
     "slide_type": "notes"
    },
    "tags": []
   },
   "source": [
    "Note: Vanderbilt does Bootstrap/Jackknife in the middle of Lecture 6 (after fitting a line to data and goodness of fit and in more detail that we have time for here), but we do it here because we are still talking about uniform errors."
   ]
  },
  {
   "cell_type": "markdown",
   "metadata": {
    "editable": true,
    "slideshow": {
     "slide_type": "slide"
    },
    "tags": []
   },
   "source": [
    "In **bootstrapping** we map the uncertainty of the parameters by re-sampling from our distribution (with replacement) $B$ times, such that we obtain $B$ measures of our parameters.   So, if we have $i=1,\\dots,N$ data points in $\\{x_i\\}$, we draw $N$ of them to make a new sample, where some values of $\\{x_i\\}$ will be used more than once.\n",
    "\n",
    "The **jackknife** method is similar except that we don't use a sample size of $N$, rather we leave off one or more of the observations from $\\{x_i\\}$.  As with bootstrap, we do this multiple times, generating samples from which we can determine our uncertainties."
   ]
  },
  {
   "cell_type": "markdown",
   "metadata": {},
   "source": [
    "### Bootstrap Method\n",
    "\n",
    "In bootstrapping, we map the uncertainty of model parameters by re-sampling from our data (with replacement) $B$ times. This is relatively new (Efron, 1979) and was named in inspiration of \"*pulling oneself up by one's bootstraps*\".\n",
    "\n",
    "When sampling from observed data of length $N$ with replacement, there are $N!$ distinct combinations of new observed datasets, and there is only a $N!/N^N$ probability of getting back the original dataset (even for $N=10$ this is only $0.00036$). \n",
    "\n",
    "With $B$ new bootstrap datasets, we compute our statistics on each to obtain $B$ measures of our parameters. So, if we have $i=1,\\dots,N$ data points in $\\{x_i\\}$, we draw $N$ of them to make a new sample, where some values of $\\{x_i\\}$ will be used more than once (and this is ok)."
   ]
  },
  {
   "cell_type": "markdown",
   "metadata": {
    "editable": true,
    "slideshow": {
     "slide_type": ""
    },
    "tags": []
   },
   "source": [
    "**EXAMPLE**\n",
    "- We have an original dataset of $1000$ points drawn from a Gaussian distribution. \n",
    "- We can only measure the standard deviation of the distribution once with this dataset.  \n",
    "- Instead, we use the bootstrap method to resample the data $10,000$ times, and compute the standard deviation and $\\sigma_G$ on each new dataset. \n",
    "- This will map out the uncertainty distribution of those statistics, allowing us to quote confidence limits in our actual measured value. "
   ]
  },
  {
   "cell_type": "markdown",
   "metadata": {
    "editable": true,
    "slideshow": {
     "slide_type": "notes"
    },
    "tags": []
   },
   "source": [
    "Note: The end of Vanderbilt's Lecture 6 has more on resampling."
   ]
  },
  {
   "cell_type": "markdown",
   "metadata": {
    "editable": true,
    "slideshow": {
     "slide_type": "notes"
    },
    "tags": []
   },
   "source": [
    "Note: The Wwording is confusing for bootstrap.  Have N points.  Going to sample from those N times with replacement.  So, might never chose 3, but chose 92 twice.  Do that B times."
   ]
  },
  {
   "cell_type": "markdown",
   "metadata": {
    "editable": true,
    "slideshow": {
     "slide_type": "slide"
    },
    "tags": []
   },
   "source": [
    "An example of bootstrap is given below, using [astroML.resample.bootstrap](http://www.astroml.org/modules/generated/astroML.resample.bootstrap.html), where the arguments are 1) the data, 2) the number of bootstrap resamples to use, and 3) the statistic to be computed.\n",
    "\n",
    "You'll get some more practice with this in a homework assignment based on Data Camp.\n",
    "\n",
    "<font color='red'>Read through the next cell carefully to understand what's happening when you execute it.</font> "
   ]
  },
  {
   "cell_type": "code",
   "execution_count": null,
   "metadata": {
    "editable": true,
    "slideshow": {
     "slide_type": "slide"
    },
    "tags": []
   },
   "outputs": [],
   "source": [
    "# Ivezic v2, Figure 4.3, modified slightly by GTR\n",
    "# %load ../code/fig_bootstrap_gaussian.py\n",
    "\"\"\"\n",
    "Bootstrap Calculations of Error on Mean\n",
    "---------------------------------------\n",
    "Figure 4.3.\n",
    "\n",
    "The bootstrap uncertainty estimates for the sample standard deviation\n",
    ":math:`\\sigma` (dashed line; see eq. 3.32) and :math:`\\sigma_G` (solid line;\n",
    "see eq. 3.36). The sample consists of N = 1000 values drawn from a Gaussian\n",
    "distribution with :math:`\\mu = 0` and :math:`\\sigma = 1`. The bootstrap\n",
    "estimates are based on 10,000 samples. The thin lines show Gaussians with\n",
    "the widths determined as :math:`s / \\sqrt{2(N - 1)}` (eq. 3.35) for\n",
    ":math:`\\sigma` and :math:`1.06 s / \\sqrt{N}` (eq. 3.37) for :math:`\\sigma_G`.\n",
    "\"\"\"\n",
    "# Author: Jake VanderPlas\n",
    "# License: BSD\n",
    "#   The figure produced by this code is published in the textbook\n",
    "#   \"Statistics, Data Mining, and Machine Learning in Astronomy\" (2013)\n",
    "#   For more information, see http://astroML.github.com\n",
    "#   To report a bug or issue, use the following forum:\n",
    "#    https://groups.google.com/forum/#!forum/astroml-general\n",
    "import numpy as np\n",
    "from scipy.stats import norm\n",
    "from matplotlib import pyplot as plt\n",
    "\n",
    "from astroML.resample import bootstrap\n",
    "from astroML.stats import sigmaG\n",
    "\n",
    "#----------------------------------------------------------------------\n",
    "# This function adjusts matplotlib settings for a uniform feel in the textbook.\n",
    "# Note that with usetex=True, fonts are rendered with LaTeX.  This may\n",
    "# result in an error if LaTeX is not installed on your system.  In that case,\n",
    "# you can set usetex to False.\n",
    "if \"setup_text_plots\" not in globals():\n",
    "    from astroML.plotting import setup_text_plots\n",
    "setup_text_plots(fontsize=12, usetex=False)\n",
    "\n",
    "m = 1000  # number of points\n",
    "n = 10000  # number of bootstraps\n",
    "\n",
    "#------------------------------------------------------------\n",
    "# sample values from a normal distribution\n",
    "np.random.seed(123)\n",
    "data = norm(0, 1).rvs(m)\n",
    "\n",
    "#------------------------------------------------------------\n",
    "# Compute bootstrap resamplings of data\n",
    "mu1_bootstrap = bootstrap(data, n, np.std, kwargs=dict(axis=1, ddof=1))\n",
    "mu2_bootstrap = bootstrap(data, n, sigmaG, kwargs=dict(axis=1))\n",
    "\n",
    "#------------------------------------------------------------\n",
    "# Compute the theoretical expectations for the two distributions\n",
    "xgrid = np.linspace(0.8, 1.2, 1000)\n",
    "\n",
    "sigma1 = 1. / np.sqrt(2 * (m - 1))\n",
    "pdf1 = norm(1, sigma1).pdf(xgrid)\n",
    "\n",
    "sigma2 = 1.06 / np.sqrt(m)\n",
    "pdf2 = norm(1, sigma2).pdf(xgrid)\n",
    "\n",
    "#------------------------------------------------------------\n",
    "# Plot the results\n",
    "fig, ax = plt.subplots(figsize=(8, 8))\n",
    "\n",
    "ax.hist(mu1_bootstrap, bins=50, density=True, histtype='step',\n",
    "        color='blue', ls='dashed', label=r'$\\sigma\\ {\\rm (std. dev.)}$')\n",
    "ax.plot(xgrid, pdf1, color='gray')\n",
    "\n",
    "ax.hist(mu2_bootstrap, bins=50, density=True, histtype='step',\n",
    "        color='red', label=r'$\\sigma_G\\ {\\rm (quartile)}$')\n",
    "ax.plot(xgrid, pdf2, color='gray')\n",
    "\n",
    "ax.set_xlim(0.82, 1.18)\n",
    "\n",
    "ax.set_xlabel(r'$\\sigma$')\n",
    "ax.set_ylabel(r'$p(\\sigma|x,I)$')\n",
    "\n",
    "ax.legend()\n",
    "\n",
    "plt.show()"
   ]
  },
  {
   "cell_type": "markdown",
   "metadata": {
    "editable": true,
    "slideshow": {
     "slide_type": "fragment"
    },
    "tags": []
   },
   "source": [
    "The above shows the bootstrap uncertainty estimates for the sample standard deviation $\\sigma$ (blue dashed) and $\\sigma_G$ (red solid). The thin grey lines show Gaussians with the theoretical widths determined as $\\sigma_s = s/\\sqrt{2(N - 1)}$ and $\\sigma_{\\sigma_G} = 1.06s/ \\sqrt{N}$.  We can then use these distributions to estimate, for example, the 95% confidence intervals for the true scale of the distribution."
   ]
  },
  {
   "cell_type": "markdown",
   "metadata": {
    "editable": true,
    "slideshow": {
     "slide_type": "slide"
    },
    "tags": []
   },
   "source": [
    "### Jackknife Method \n",
    "\n",
    "This is similar to bootsrapping except that we don't use a sample size of $N$. Rather, ***we leave off one or more of the observations*** from $\\{x_i\\}$. As with bootstrap, we do this multiple times, generating samples from which we can determine our uncertainties.\n",
    "\n",
    "- If we leave out just one datapoint each time, we can make $N$ such datasets that each contain $(N-1)$ data points.\n",
    "- We compute our statistic or find our model parameters in each of these jackknife datasets."
   ]
  },
  {
   "cell_type": "markdown",
   "metadata": {
    "editable": true,
    "slideshow": {
     "slide_type": "skip"
    },
    "tags": []
   },
   "source": [
    "For jackknifing by leaving out one datapoint, the bias-corrected jackknife estimate of a statistic $\\alpha$ is\n",
    "\n",
    "$$ \\alpha^J = \\alpha_N + \\Delta\\alpha,$$\n",
    "\n",
    "where $\\alpha_N$ is the statistic computed on the original dataset, and \n",
    "\n",
    "$$ \\Delta\\alpha = (N-1)\\left( \\alpha_N - \\frac{1}{N}\\sum_{i=1}^N \\alpha^*_i \\right)$$\n",
    "\n",
    "where $\\{\\alpha_i^*\\}$ are the statistics computed on the $N$ jackknife datasets. \n",
    "\n",
    "Confidence limits on $\\alpha$ can be computed using the Student's $t$ distribution.\n",
    "\n",
    "See Vanderbilt's course for more details."
   ]
  },
  {
   "cell_type": "markdown",
   "metadata": {
    "editable": true,
    "slideshow": {
     "slide_type": "fragment"
    },
    "tags": []
   },
   "source": [
    "**NOTES**\n",
    "- The jackknife standard error is more reliable than the bias correction.\n",
    "- Standard jackknife (removing one point) does well for statistics like the mean and standard deviation, but is poor with rank-based statistics (e.g., median, quantiles, $\\sigma_G$). \n",
    "- This is because (as we've seen) rank-based statistics are not very sensitive to adding/removing single data points. So jackknifing can give many identical values of the statistic!\n",
    "- This can be resolved by modifying the jackknife to leave off more than one datapoint."
   ]
  },
  {
   "cell_type": "markdown",
   "metadata": {
    "editable": true,
    "slideshow": {
     "slide_type": "skip"
    },
    "tags": []
   },
   "source": [
    "**EXAMPLE**\n",
    "\n",
    "Note: Skipping due to time constraints, but here for you to look at on your own.\n",
    "\n",
    "- We compute jackknife uncertainty estimates for the width of a Gaussian distribution, using the same data as in the bootstrap example.\n",
    "- The $N$ jackknife estimates of $\\sigma$ and $\\sigma_G$ will be shown, but the `astroML` jackknife method automatically incorporates the bias correction mentioned above.\n",
    "\n",
    "<font color='red'>Read through the next cell carefully to understand what's happening when you execute it.</font>"
   ]
  },
  {
   "cell_type": "code",
   "execution_count": null,
   "metadata": {
    "editable": true,
    "slideshow": {
     "slide_type": "slide"
    },
    "tags": []
   },
   "outputs": [],
   "source": [
    "# Ivezic v2, Figure 4.4, modified slightly by SRT\n",
    "# %load ./scripts/fig_jackknife_gaussian.py\n",
    "# Author: Jake VanderPlas\n",
    "# License: BSD\n",
    "\n",
    "from astroML.resample import jackknife\n",
    "from astroML.stats import sigmaG\n",
    "\n",
    "m = 1000  # number of points\n",
    "n = 10000  # number of bootstraps\n",
    "\n",
    "#------------------------------------------------------------\n",
    "# sample values from a normal distribution\n",
    "np.random.seed(123)\n",
    "data = norm(0, 1).rvs(m)\n",
    "\n",
    "# mu1 is the mean of the standard-deviation-based width\n",
    "mu1, sigma_mu1, mu1_raw = jackknife(data, np.std,\n",
    "                                    kwargs=dict(axis=1, ddof=1),\n",
    "                                    return_raw_distribution=True)\n",
    "\n",
    "pdf1_theory = norm(1, 1. / np.sqrt(2 * (m - 1)))\n",
    "pdf1_jackknife = norm(mu1, sigma_mu1)\n",
    "print(mu1, sigma_mu1)\n",
    "\n",
    "# mu2 is the mean of the interquartile-based width\n",
    "#  WARNING: do not use the following in practice.  This example\n",
    "#           shows that jackknife fails for rank-based statistics.\n",
    "mu2, sigma_mu2, mu2_raw = jackknife(data, sigmaG,\n",
    "                                    kwargs=dict(axis=1),\n",
    "                                    return_raw_distribution=True)\n",
    "pdf2_theory = norm(data.std(), 1.06 / np.sqrt(m))\n",
    "pdf2_jackknife = norm(mu2, sigma_mu2)\n",
    "print(mu2, sigma_mu2)\n",
    "\n",
    "#------------------------------------------------------------\n",
    "# plot the results\n",
    "print(\"mu_1 mean: %.2f +- %.2f\" % (mu1, sigma_mu1))\n",
    "print(\"mu_2 mean: %.2f +- %.2f\" % (mu2, sigma_mu2))\n",
    "\n",
    "fig = plt.figure(figsize=(10, 4))\n",
    "fig.subplots_adjust(left=0.11, right=0.95, bottom=0.2, top=0.9,\n",
    "                    wspace=0.25)\n",
    "\n",
    "# plot all jacnknife results on histogram\n",
    "ax = fig.add_subplot(121)\n",
    "ax.hist(mu1_raw, np.linspace(0.996, 1.008, 100),\n",
    "        label=r'$\\sigma^*\\ {\\rm (std.\\ dev.)}$',\n",
    "        histtype='stepfilled', fc='white', \n",
    "        ec='black', density=False)\n",
    "ax.hist(mu2_raw, np.linspace(0.996, 1.008, 100),\n",
    "        label=r'$\\sigma_G^*\\ {\\rm (quartile)}$',\n",
    "        histtype='stepfilled', fc='gray', \n",
    "        density=False)\n",
    "ax.legend(loc='upper left', handlelength=2)\n",
    "\n",
    "ax.xaxis.set_major_locator(plt.MultipleLocator(0.004))\n",
    "ax.set_xlabel(r'$\\sigma^*$')\n",
    "ax.set_ylabel(r'$N(\\sigma^*)$')\n",
    "ax.set_xlim(0.998, 1.008)\n",
    "ax.set_ylim(0, 550)\n",
    "\n",
    "# plot the bias-corrected jackknife estimates\n",
    "ax = fig.add_subplot(122)\n",
    "x = np.linspace(0.45, 1.15, 1000)\n",
    "ax.plot(x, pdf1_jackknife.pdf(x),\n",
    "        color='blue', ls='dashed', \n",
    "        label=r'$\\sigma\\ {\\rm (std.\\ dev.)}$',\n",
    "        zorder=2)\n",
    "ax.plot(x, pdf1_theory.pdf(x), \n",
    "        color='gray', zorder=1)\n",
    "ax.plot(x, pdf2_jackknife.pdf(x),\n",
    "        color='red', \n",
    "        label=r'$\\sigma_G\\ {\\rm (quartile)}$', \n",
    "        zorder=2)\n",
    "ax.plot(x, pdf2_theory.pdf(x), \n",
    "        color='gray', zorder=1)\n",
    "plt.legend(loc='upper left', handlelength=2)\n",
    "\n",
    "\n",
    "ax.set_xlabel(r'$\\sigma$')\n",
    "ax.set_ylabel(r'$p(\\sigma|x,I)$')\n",
    "ax.set_xlim(0.45, 1.15)\n",
    "ax.set_ylim(0, 24)\n",
    "\n",
    "plt.show()"
   ]
  },
  {
   "cell_type": "markdown",
   "metadata": {
    "editable": true,
    "slideshow": {
     "slide_type": "skip"
    },
    "tags": []
   },
   "source": [
    "The **left panel** shows a histogram over all $N$ jackknife datasets of the widths determined using the sample standard deviation, and using $\\sigma_G$ (from the interquartile range). \n",
    "\n",
    "The **right panel** shows the bias-corrected jackknife estimates (see above) for the two methods. The gray lines show the theoretical results as before in the bootstrap example. The jackknife result for $\\sigma$ matches the theoretical result almost exactly, but note the failure of the jackknife to correctly estimate $\\sigma_G$. *Jackknifing does poorly for rank-based statistics!*"
   ]
  },
  {
   "cell_type": "markdown",
   "metadata": {
    "editable": true,
    "slideshow": {
     "slide_type": "slide"
    },
    "tags": []
   },
   "source": [
    "### When to bootstrap or jackknife?\n",
    "\n",
    "- Jackknife estimates are usually easier to calculate, easier to apply for complex sampling schemes, and automtically remove bias.\n",
    "- Bootstrap is better for computing confidence intervals because it maps out the full distribution of the statistic instead of assuming asymptotic normality.\n",
    "- Bootstrap is random resampling so gives different results each time. Whereas jackknifing gives repeatable results.\n",
    "\n",
    "It is generally a good idea to use both methods and compare the results. Use either/both with caution with $N$ is small!"
   ]
  },
  {
   "cell_type": "markdown",
   "metadata": {
    "editable": true,
    "slideshow": {
     "slide_type": "notes"
    },
    "tags": []
   },
   "source": [
    "Note: Vanderbilt covered this next part in their Lecture 5."
   ]
  },
  {
   "cell_type": "markdown",
   "metadata": {
    "editable": true,
    "slideshow": {
     "slide_type": "slide"
    },
    "tags": []
   },
   "source": [
    "## MLE applied to a Heteroscedastic Gaussian (Ivezic 4.2.6)  <a class=\"anchor\" id=\"six\"></a>\n",
    "\n",
    "Now let's look at a case where the errors are heteroscedastic.  For example if we are measuring the length of a [rod](https://www.nist.gov/image/meter27jpg) and have $N$ measurements, $\\{x_i\\}$, where the error for each measurement, $\\sigma_i$ is known.  Since $\\sigma$ is **not** a constant, then following the above, we have\n",
    "\n",
    "$$\\ln L = {\\rm constant} - \\sum_{i=1}^N \\frac{(x_i - \\mu)^2}{2\\sigma_i^2}.$$\n",
    "\n",
    "Taking the derivative:\n",
    "$$\\frac{d\\;{\\rm lnL}(\\mu)}{d\\mu}\\Biggr\\rvert_{\\hat \\mu} = \\sum_{i=1}^N \\frac{(x_i - \\hat \\mu)}{\\sigma_i^2} = 0,$$\n",
    "then simplifying:\n",
    "\n",
    "$$\\sum_{i=1}^N \\frac{x_i}{\\sigma_i^2} = \\sum_{i=1}^N \\frac{\\hat \\mu}{\\sigma_i^2},$$\n",
    "\n",
    "yields a MLE solution of \n",
    "$$\\hat \\mu = \\frac{\\sum_i^N (x_i/\\sigma_i^2)}{\\sum_i^N (1/\\sigma_i^2)},$$\n",
    "\n",
    "which is just a variance-weighted mean, with uncertainty\n",
    "$$\\sigma_{\\mu} = \\left( \\sum_{i=1}^N \\frac{1}{\\sigma_i^2}\\right)^{-1/2}.$$"
   ]
  },
  {
   "cell_type": "markdown",
   "metadata": {
    "editable": true,
    "slideshow": {
     "slide_type": "slide"
    },
    "tags": []
   },
   "source": [
    "## Aside: Cost Functions <a class=\"anchor\" id=\"seven\"></a>\n",
    "\n",
    "Recall from Lecture 3 that we measured the deviation from expected in three different ways\n",
    "$$d_i = x_i - \\mu,$$  \n",
    "$$|x_i-\\mu|,$$\n",
    "and\n",
    "$$(x_i-\\mu)^2.$$\n",
    "\n",
    "When trying to determine the best model parameters, we have to specify a \"cost function\", which is basically the prescription for evaluating the difference (distance) between our estimator and the true value.  This is otherwise known as the \"norm\", or the total length of the distances.  The first form above represents the $L_0$ norm, while the next two are the $L_1$ norm (the \"taxi-cab\" norm) and the $L_2$ norm (the \"as the crow flies\" norm).  \n",
    "\n",
    "So far we have been using an $L_2$ norm (which comes about simply from the definition of a Gaussian with the $(x_i-\\mu)^2$ term).  Later in the course we will encounter machine learning algorithms that allow us to specify different norms (different cost functions).\n",
    "\n",
    "The [$L_p$ norm](https://www.wikiwand.com/en/Lp_space) can be defined as $\\sum_{i=1}^N (y_i -M(x_i))^p/\\sigma^p$.\n",
    "\n",
    "See [this Medium article](https://medium.com/@montjoile/l0-norm-l1-norm-l2-norm-l-infinity-norm-7a7d18a4f40c) and Ivezic, 4.2.8."
   ]
  },
  {
   "cell_type": "markdown",
   "metadata": {
    "editable": true,
    "slideshow": {
     "slide_type": "notes"
    },
    "tags": []
   },
   "source": [
    "GTR: Mostly has to do with how important errors in the tails of the distribution are."
   ]
  },
  {
   "cell_type": "markdown",
   "metadata": {
    "editable": true,
    "slideshow": {
     "slide_type": "slide"
    },
    "tags": []
   },
   "source": [
    "### Truncated/Censored Data\n",
    "\n",
    "Note that knowing how to deal with missing data points (\"censored data\") is often quite important, but adds complications that we don't have time to get into here.  For more, see Ivezic 4.2.7."
   ]
  },
  {
   "cell_type": "markdown",
   "metadata": {
    "editable": true,
    "slideshow": {
     "slide_type": "notes"
    },
    "tags": []
   },
   "source": [
    "Note: Consider adding \"Fitting a Line to Data\" from Vanderbilt's Lecture 6 here.  Huber loss function also worthwhile.  But the whole section would take way too long."
   ]
  },
  {
   "cell_type": "markdown",
   "metadata": {
    "editable": true,
    "slideshow": {
     "slide_type": "slide"
    },
    "tags": []
   },
   "source": [
    "## \"Goodness\" of Fit (Ivezic 4.3)  <a class=\"anchor\" id=\"eight\"></a>\n",
    "\n",
    "The MLE approach tells us what the \"best\" model parameters are, but not how good the fit actually is.  If the model is wrong, \"best\" might not be particularly revealing (\"Garbage In = Garbage Out\")!  For example, if you have $N$ points drawn from a linear distribution, you can always fit the data perfectly with an $N-1$ order polynomial.  But that won't help you predict future measurements.\n",
    "\n",
    "We can describe the **goodness of fit** as\n",
    "> whether or not it is likely to have obtained $\\ln L_0$ by randomly drawing from the data.  \n",
    "\n",
    "That means that we need to know the *distribution* of $\\ln L$ and not just the maximum.  \n",
    "\n",
    "For the Gaussian case we have just described, we do a standard transform of variables and compute the so-called $z$ score for each data point (basically the number of standard deviations away from the mean that this point is), writing \n",
    "$$z_i = (x_i-\\mu)/\\sigma,$$ then\n",
    "$$\\ln L = {\\rm constant} - \\frac{1}{2}\\sum_{i=1}^N z^2 = {\\rm constant} - \\frac{1}{2}\\chi^2.$$\n",
    "\n",
    "Here, $\\chi^2$ is the thing whose distribution we discussed last week.\n",
    "\n",
    "So for Gaussian uncertainties, $\\ln L$ is distributed as $\\chi^2$.  "
   ]
  },
  {
   "cell_type": "markdown",
   "metadata": {
    "editable": true,
    "slideshow": {
     "slide_type": "slide"
    },
    "tags": []
   },
   "source": [
    "The mean of the $\\chi^2$ distribution is $N-k$ and its standard deviation is $\\sqrt{2(N-k)}$.\n",
    "\n",
    "Let's visualize that."
   ]
  },
  {
   "cell_type": "code",
   "execution_count": null,
   "metadata": {
    "editable": true,
    "slideshow": {
     "slide_type": "slide"
    },
    "tags": []
   },
   "outputs": [],
   "source": [
    "# Execute this cell to make the plot\n",
    "# %load ../code/fig_chi2_distribution.py\n",
    "\"\"\"\n",
    "Example of a chi-squared distribution\n",
    "---------------------------------------\n",
    "Figure 3.14.\n",
    "\n",
    "This shows an example of a :math:`\\chi^2` distribution with various parameters.\n",
    "\"\"\"\n",
    "# Author: Jake VanderPlas\n",
    "# License: BSD\n",
    "#   The figure produced by this code is published in the textbook\n",
    "#   \"Statistics, Data Mining, and Machine Learning in Astronomy\" (2013)\n",
    "#   For more information, see http://astroML.github.com\n",
    "#   To report a bug or issue, use the following forum:\n",
    "#    https://groups.google.com/forum/#!forum/astroml-general\n",
    "import numpy as np\n",
    "from scipy.stats import chi2\n",
    "from matplotlib import pyplot as plt\n",
    "\n",
    "#----------------------------------------------------------------------\n",
    "# This function adjusts matplotlib settings for a uniform feel in the textbook.\n",
    "# Note that with usetex=True, fonts are rendered with LaTeX.  This may\n",
    "# result in an error if LaTeX is not installed on your system.  In that case,\n",
    "# you can set usetex to False.\n",
    "from astroML.plotting import setup_text_plots\n",
    "setup_text_plots(fontsize=12, usetex=True)\n",
    "\n",
    "#------------------------------------------------------------\n",
    "# Define the distribution parameters to be plotted\n",
    "k_values = [1, 2, 5, 7]\n",
    "linestyles = ['-', '--', ':', '-.']\n",
    "mu = 0\n",
    "xplot = np.linspace(-1, 10, 1000)\n",
    "\n",
    "#------------------------------------------------------------\n",
    "# plot the distributions\n",
    "fig, ax = plt.subplots(figsize=(5, 3.75))\n",
    "fig.subplots_adjust(bottom=0.12)\n",
    "\n",
    "for k, ls in zip(k_values, linestyles):\n",
    "    dist = chi2(k, mu)\n",
    "    idx = np.argsort(dist.pdf(xplot))[-1]\n",
    "    #print(f\"The peak Q value for {k} degrees of freedom is {xplot[idx]}.\")\n",
    "    print(\"The peak Q value for {0:d} degrees of freedom is {1:3.2f}.\".format(k,xplot[idx]))\n",
    "                                                                                       \n",
    "    plt.plot(xplot, dist.pdf(xplot), ls=ls, c='black',\n",
    "             label=r'$k=%i$' % k)\n",
    "\n",
    "plt.xlim(0, 10)\n",
    "plt.ylim(0, 0.5)\n",
    "\n",
    "plt.xlabel('$Q$')\n",
    "plt.ylabel(r'$p(Q|k)$')\n",
    "plt.title(r'$\\chi^2\\ \\mathrm{Distribution}$')\n",
    "\n",
    "plt.legend()\n",
    "plt.show()"
   ]
  },
  {
   "cell_type": "markdown",
   "metadata": {
    "editable": true,
    "slideshow": {
     "slide_type": "slide"
    },
    "tags": []
   },
   "source": [
    "We define the $\\chi^2$ per degree of freedom, $\\chi^2_{dof}$, as\n",
    "$$\\chi^2_{dof} = \\frac{1}{N-k}\\sum_{i=1}^N z^2_i.$$\n",
    "\n",
    "For a good fit, we would expect that $\\chi^2_{dof}\\approx 1$.  If $\\chi^2_{dof}$ is significantly larger than 1, then it is likely that we are not using the correct model."
   ]
  },
  {
   "cell_type": "markdown",
   "metadata": {
    "editable": true,
    "slideshow": {
     "slide_type": "slide"
    },
    "tags": []
   },
   "source": [
    "We can also get overly high or low values of $\\chi^2_{dof}$ if our errors are under- or over-estimated as shown below:\n",
    "\n",
    "![Ivezic, Figure 4.1](http://www.astroml.org/_images/fig_chi2_eval_1.png)"
   ]
  },
  {
   "cell_type": "markdown",
   "metadata": {
    "editable": true,
    "slideshow": {
     "slide_type": "notes"
    },
    "tags": []
   },
   "source": [
    "Note: Comment on the number of points whose error bars go through the best fit line."
   ]
  },
  {
   "cell_type": "markdown",
   "metadata": {
    "editable": true,
    "slideshow": {
     "slide_type": "slide"
    },
    "tags": []
   },
   "source": [
    "### Example: Polynomial Fitting  <a class=\"anchor\" id=\"nine\"></a>\n",
    "\n",
    "Let's use the example from http://jakevdp.github.io/blog/2015/08/07/frequentism-and-bayesianism-5-model-selection/\n",
    "to illustrate some ideas about goodness of fit and model selection."
   ]
  },
  {
   "cell_type": "markdown",
   "metadata": {
    "editable": true,
    "slideshow": {
     "slide_type": "notes"
    },
    "tags": []
   },
   "source": [
    "Note: Vanderbilt saves this to Lecture 9 and presents it in the Bayesian context."
   ]
  },
  {
   "cell_type": "code",
   "execution_count": null,
   "metadata": {
    "editable": true,
    "slideshow": {
     "slide_type": "slide"
    },
    "tags": []
   },
   "outputs": [],
   "source": [
    "#Execute this cell to load all of the modules we'll need and define the data array.\n",
    "import numpy as np\n",
    "import matplotlib.pyplot as plt\n",
    "from scipy import stats\n",
    "from scipy import optimize\n",
    "\n",
    "# generate (x,y, sigma_y) \"data\" \n",
    "data = np.array([[ 0.42,  0.72,  0.  ,  0.3 ,  0.15,\n",
    "                   0.09,  0.19,  0.35,  0.4 ,  0.54,\n",
    "                   0.42,  0.69,  0.2 ,  0.88,  0.03,\n",
    "                   0.67,  0.42,  0.56,  0.14,  0.2  ],\n",
    "                 [ 0.33,  0.41, -0.25,  0.01, -0.05,\n",
    "                  -0.05, -0.12,  0.26,  0.29,  0.39, \n",
    "                   0.31,  0.42, -0.01,  0.58, -0.2 ,\n",
    "                   0.52,  0.15,  0.32, -0.13, -0.09 ],\n",
    "                 [ 0.1 ,  0.1 ,  0.1 ,  0.1 ,  0.1 ,\n",
    "                   0.1 ,  0.1 ,  0.1 ,  0.1 ,  0.1 ,\n",
    "                   0.1 ,  0.1 ,  0.1 ,  0.1 ,  0.1 ,\n",
    "                   0.1 ,  0.1 ,  0.1 ,  0.1 ,  0.1  ]])"
   ]
  },
  {
   "cell_type": "code",
   "execution_count": null,
   "metadata": {
    "editable": true,
    "slideshow": {
     "slide_type": "slide"
    },
    "tags": []
   },
   "outputs": [],
   "source": [
    "#Functions to do a polynomial fit, compute the likelihood, and determine the best-fit parameters.\n",
    "#Nothing for you to do, just run.  (But see if you can follow what is going on.)\n",
    "def polynomial_fit(theta, x):\n",
    "    \"\"\"Polynomial model of degree (len(theta) - 1)\"\"\"\n",
    "    # For a polynomial with order 1, this gives theta_0 + theta_1*x\n",
    "    # For a polynomial with order 2, this gives theta_0 + theta_1*x + theta_2*x^2, etc.\n",
    "    return sum(t * x ** n for (n, t) in enumerate(theta))\n",
    "\n",
    "# compute the data log-likelihood given a model\n",
    "def logL(theta, data, model=polynomial_fit):\n",
    "    \"\"\"Gaussian log-likelihood of the model at theta\"\"\"\n",
    "    x, y, sigma_y = data\n",
    "    y_fit = model(theta, x)\n",
    "    return sum(stats.norm.logpdf(*args) for args in zip(y, y_fit, sigma_y))\n",
    "\n",
    "# a direct optimization approach is used to get best model \n",
    "# parameters (which minimize -logL)\n",
    "def best_theta(degree, model=polynomial_fit, data=data):\n",
    "    theta_0 = (degree + 1) * [0]\n",
    "    neg_logL = lambda theta: -logL(theta, data, model)\n",
    "    return optimize.fmin_bfgs(neg_logL, theta_0, disp=False)"
   ]
  },
  {
   "cell_type": "code",
   "execution_count": null,
   "metadata": {
    "editable": true,
    "slideshow": {
     "slide_type": "slide"
    },
    "tags": []
   },
   "outputs": [],
   "source": [
    "#Execute this cell.  See if you understand what it is doing.\n",
    "x, y, sigma_y = data\n",
    "Ndata = x.size\n",
    "\n",
    "# get best-fit parameters for linear, quadratic and cubic models\n",
    "theta1 = best_theta(1, data=data)\n",
    "theta2 = best_theta(2, data=data)\n",
    "theta3 = best_theta(3, data=data)\n",
    "# generate best fit lines on a fine grid \n",
    "xgrid = np.linspace(-0.1, 1.1, 1000)\n",
    "yfit1 = polynomial_fit(theta1, xgrid)\n",
    "yfit2 = polynomial_fit(theta2, xgrid)\n",
    "yfit3 = polynomial_fit(theta3, xgrid)\n",
    "\n",
    "# plot \n",
    "fig, ax = plt.subplots(figsize=(16, 8))\n",
    "ax.errorbar(x, y, sigma_y, fmt='ok', ecolor='gray')\n",
    "ax.plot(xgrid, yfit1, label='best linear model')\n",
    "ax.plot(xgrid, yfit2, label='best quadratic model')\n",
    "ax.plot(xgrid, yfit3, label='best cubic model')\n",
    "ax.legend(loc='best', fontsize=14)\n",
    "ax.set(xlabel='x', ylabel='y', title='data');"
   ]
  },
  {
   "cell_type": "code",
   "execution_count": null,
   "metadata": {
    "editable": true,
    "slideshow": {
     "slide_type": "slide"
    },
    "tags": []
   },
   "outputs": [],
   "source": [
    "#Exit Ticket Question: \n",
    "#Can you write down the equation for the cubic fit?\n",
    "\n",
    "print(theta1,theta2,theta3)"
   ]
  },
  {
   "cell_type": "markdown",
   "metadata": {
    "editable": true,
    "slideshow": {
     "slide_type": "slide"
    },
    "tags": []
   },
   "source": [
    "We can use $\\chi^2$ per degree of freedom to determine which fit is \"best\".  It is computed as \n",
    "$$ \\chi^2_{dof}  = \\frac{1}{N-k} \\sum_i^N \\left( \\frac{y - y_{fit}}{\\sigma_y} \\right)^2, $$\n",
    "where $N$ is the number of data points and $k$ is the number of free model parameters (here 2, 3, and 4).\n",
    "\n",
    "For large values of $(N-k)$ (larger than about 10), the distribution of \n",
    "$\\chi^2$ per degre of freedom is approximately Gaussian with a width of\n",
    "$\\sigma=\\sqrt{2/(N-k)}$. "
   ]
  },
  {
   "cell_type": "code",
   "execution_count": null,
   "metadata": {
    "editable": true,
    "slideshow": {
     "slide_type": "slide"
    },
    "tags": []
   },
   "outputs": [],
   "source": [
    "#Complete and execute this cell to compute chi2: sum{[(y-yfit)/sigma_y]^2} \n",
    "chi21 = np.sum(((y-polynomial_fit(theta1, x))/sigma_y)**2) \n",
    "chi22 = np.sum(((y-polynomial_fit(____, x))/sigma_y)**2) \n",
    "chi23 = np.sum(((y-polynomial_fit(____, x))/sigma_y)**2) \n",
    "# normalize by the number of degrees of freedom\n",
    "# the number of fitted parameters is 2, 3, 4\n",
    "chi2dof1 = chi21/(Ndata - 2)\n",
    "chi2dof2 = chi22/(____)\n",
    "chi2dof3 = chi23/(____)\n",
    "\n",
    "print(\"CHI2:\")\n",
    "print('   best linear model:', chi21)\n",
    "print('best quadratic model:', chi22)\n",
    "print('    best cubic model:', chi23)\n",
    "print(\"CHI2 per degree of freedom:\")\n",
    "print('   best linear model:', chi2dof1)\n",
    "print('best quadratic model:', chi2dof2)\n",
    "print('    best cubic model:', chi2dof3)"
   ]
  },
  {
   "cell_type": "markdown",
   "metadata": {
    "editable": true,
    "slideshow": {
     "slide_type": "slide"
    },
    "tags": []
   },
   "source": [
    "Obviously, the cubic model has the lowest $\\chi^2$ (\"fits the best\"), but \n",
    "it has 4 free parameters while the linear model has only 2 free parameters."
   ]
  },
  {
   "cell_type": "markdown",
   "metadata": {
    "editable": true,
    "slideshow": {
     "slide_type": "slide"
    },
    "tags": []
   },
   "source": [
    "### Model Comparison  <a class=\"anchor\" id=\"ten\"></a>\n",
    "\n",
    "**Which model should we adopt?**\n",
    "\n",
    "We need a modified approach whenever the models we're comparing have different numbers of parameters. Such an approach should account for **model complexity** and effectively penalize models with additional parameters that are not constrained by the data. This is often called an ***Occam penalty***, because we're trying to incorporate [Occam's Razor](https://www.wikiwand.com/en/Occam%27s_razor#:~:text=Occam's%20razor%2C%20Ockham's%20razor%2C%20Ocham's,is%20usually%20the%20right%20one.).\n",
    "\n",
    "> *All else being equal (i.e., each model fits the data equally well), the less complex model is favored.*"
   ]
  },
  {
   "cell_type": "markdown",
   "metadata": {
    "editable": true,
    "slideshow": {
     "slide_type": "fragment"
    },
    "tags": []
   },
   "source": [
    "We can always increase the number of paramters in our model and improve the fit.  So we need some kind of \"scoring\" system that accounts for the complexity of the model.\n",
    "\n",
    "A common scoring system is the **Aikake information criterion (AIC)**.  For $N$ data points and a model with $k$ parameters,\n",
    "$${\\rm AIC} \\equiv -2 \\ln (L_0(M)) + 2k + \\frac{2k(k+1)}{N-k-1},$$\n",
    "where the 2nd and 3rd terms are designed to penalize complex models relative to simple ones.\n",
    "\n",
    "Another scoring system is the **Bayesian information criterion (BIC)**, which is computed as\n",
    "$${\\rm BIC} \\equiv -2 \\ln (L_0(M)) + k \\ln N.$$ \n",
    "We'll see this again next time."
   ]
  },
  {
   "cell_type": "markdown",
   "metadata": {
    "editable": true,
    "slideshow": {
     "slide_type": "fragment"
    },
    "tags": []
   },
   "source": [
    "Let's use BIC to choose the best polynomial from the polynomial fitting example. \n",
    "Starting with\n",
    "\n",
    "$${\\rm BIC} = \\chi^2 + k \\ln N,$$ \n",
    "\n",
    "with $N=20$ we have:\n",
    "\n",
    "<pre>\n",
    "     model     chi2    k   k*ln(N)   BIC   \n",
    "     ------------------------------------\n",
    "    linear    11.50    2    5.99    17.49   \n",
    "  quadratic    9.29    3    8.99    18.28  \n",
    "     cubic     8.98    4   11.98    20.96 \n",
    "</pre>\n",
    "\n",
    "Therefore, the improvement in $\\chi^2$ for the quadratic model (nevermind the cubic model), relative to the linear model, is not large enough to justify another free model parameter."
   ]
  },
  {
   "cell_type": "markdown",
   "metadata": {
    "editable": true,
    "slideshow": {
     "slide_type": "slide"
    },
    "tags": []
   },
   "source": [
    "<font color=\"red\">Fill in the blanks of the next cell to get some practice.</font>"
   ]
  },
  {
   "cell_type": "code",
   "execution_count": null,
   "metadata": {
    "editable": true,
    "slideshow": {
     "slide_type": "slide"
    },
    "tags": []
   },
   "outputs": [],
   "source": [
    "#Complete and execute this cell\n",
    "L = [] #Array with all of the likelihood values\n",
    "A = [] #Array with all of the AIC values\n",
    "B = [] #Array with all of the  BICvalues\n",
    "neg_LogL1 = -logL(theta1, data)+10  #+10 for plotting purposes\n",
    "neg_LogL2 = -logL(theta2, data)+10\n",
    "neg_LogL3 = -logL(theta3, data)+10\n",
    "L = np.append(L,neg_LogL1)\n",
    "L = np.append(L,neg_LogL2)\n",
    "L = np.append(L,neg_LogL3)\n",
    "\n",
    "xplot = np.arange(len(L))+1 #x values for plotting.\n",
    "\n",
    "AIC1 = 2.*neg_LogL1 + 2.*len(theta1) + 2.*len(theta1)*(len(theta1)+1)/(len(data[0])-len(theta1)-1)\n",
    "AIC2 = ____ #Complete\n",
    "AIC3 = ____ #Complete\n",
    "A = np.append(A,AIC1)\n",
    "A = np.append(A,AIC2)\n",
    "A = np.append(A,AIC3)\n",
    "BIC1 = 2.*neg_LogL1 + len(theta1)*np.log(len(data[0]))\n",
    "BIC2 = ____ #Complete\n",
    "BIC3 = ____ #Complete\n",
    "B = np.append(B,BIC1)\n",
    "B = np.append(B,BIC2)\n",
    "B = np.append(B,BIC3)\n",
    "\n",
    "print(\"-logL:\", L)\n",
    "print(\"AIC:\", A)\n",
    "print(\"BIC:\", B)\n",
    "\n",
    "\n",
    "fig = plt.subplots(figsize=(16, 8))\n",
    "plt.plot(xplot, L, label='Likelihood+10')\n",
    "plt.plot(xplot, A, label='AIC')\n",
    "plt.plot(xplot, B, label='BIC')\n",
    "plt.legend()\n",
    "plt.xlabel(\"k\")\n",
    "plt.ylabel(\"Score\")\n",
    "print(L)\n",
    "print(B)\n",
    "print(A)"
   ]
  },
  {
   "cell_type": "markdown",
   "metadata": {
    "editable": true,
    "slideshow": {
     "slide_type": "skip"
    },
    "tags": []
   },
   "source": [
    "We'll do more with this later (and for homework), but for now we'll leave off with an example showing an attempt to fit a complex 1-D distribution with multiple Gaussians (from Ivezic Figure 4.2). $\\chi^2$ would keep falling with more components, but using the AIC or BIC we find that 3 Gaussians provides the best fit.\n",
    "\n",
    "![Ivezic, Fkigure 4.2](http://www.astroml.org/_images/fig_GMM_1D_1.png)"
   ]
  },
  {
   "cell_type": "markdown",
   "metadata": {
    "editable": true,
    "slideshow": {
     "slide_type": "notes"
    },
    "tags": []
   },
   "source": [
    "Note: Vanderbilt starts Lecture 7 with the next part."
   ]
  },
  {
   "cell_type": "markdown",
   "metadata": {
    "editable": true,
    "slideshow": {
     "slide_type": "slide"
    },
    "tags": []
   },
   "source": [
    "## Hypothesis Testing (Ivezic 4.6) <a class=\"anchor\" id=\"eleven\"></a>\n",
    "\n",
    "A common problem in statistics is **hypothesis testing**, i.e., testing whether an observation or observations agree with a certain hypothesis. \n",
    "\n",
    "The simplest example is whether a measured value $x_i$ or an entire dataset $\\{x_i\\}$ are consistent with having been drawn from a Gaussian distribution, $\\mathcal{N}(\\mu,\\sigma)$. In this example, $\\mathcal{N}(\\mu,\\sigma)$ is the ***null hypothesis***, and we are trying to reject it in order to claim that we have measured some effect. \n",
    "\n",
    "A great example in astronomy is ***source detection*** in images that suffer from a substantial noise background (e.g., atmospheric fluctuations in optical images).\n",
    "\n",
    "In the image below (from the [photutils](https://photutils.readthedocs.io/en/stable/background.html) package) we have sources embedded in Gaussian image noise. \n",
    "\n",
    "- Here the null hypothesis is that the flux in each pixel is caused by background fluctuations, and if we can reject it then we can achieve source detection. \n",
    "- Ideally we would like to be able to find the real sources in here and assign a number that says how much they reject the null background hypothesis. \n",
    "- We would establish a threshold in these numbers above which we could accept sources, knowing that we might be falsely rejecting some real ones, but hopefully not accepting too many spurious noise sources."
   ]
  },
  {
   "cell_type": "markdown",
   "metadata": {
    "editable": true,
    "slideshow": {
     "slide_type": "slide"
    },
    "tags": []
   },
   "source": [
    "![https://photutils.readthedocs.io/en/stable/_images/detection-3.png](https://photutils.readthedocs.io/en/stable/_images/detection-3.png)"
   ]
  },
  {
   "attachments": {
    "freq_pvalue.png": {
     "image/png": "[encoded data removed]"
    }
   },
   "cell_type": "markdown",
   "metadata": {
    "editable": true,
    "slideshow": {
     "slide_type": "slide"
    },
    "tags": []
   },
   "source": [
    "Imagine we have data $\\{x_i\\}$, for example pixel brightness in image data. Under an assumption about the null background distribution, $h_0(x)$, we can compute the probability that a data point would have a value as large or greater than that observed. This is called the ***$p$-value*** of the data:\n",
    "\n",
    "$$ p_i = \\int_{x_i}^\\infty h_0(x)dx \\equiv 1 - \\int_{-\\infty}^{x_i} h_0(x)dx = 1-H_0(x_i),$$\n",
    "\n",
    "where $H_0(x)$ is the CDF (cumulative density function) of the null distribution.\n",
    "\n",
    "In the image below, we show the distribution of a statistic $S$ under a null hypothesis $\\mathcal{H}_\\mathrm{null}$. The $p$-value of the observed statistic $S_\\mathrm{obs}$ is shown graphically.\n",
    "\n",
    "![freq_pvalue.png](attachment:freq_pvalue.png)\n",
    "\n",
    "Typically, a threshold $p$-value is adopted, called the **significance, $\\alpha$**. In a classification scheme, data would then reject the null hypothesis if $p_i\\leq\\alpha$. If $\\alpha=0.05$, such data would reject the null hypothesis at the $0.05$ significance level. \n",
    "\n",
    "**NOTE**\n",
    "- If we can't reject the null hypothesis then it doesn't mean the data belongs to the background. It could be that our sample is simply not large enough to detect an effect. \n",
    "- Rejecting the null hypothesis does not necessarily mean that we've proven a signal hypothesis. Our model of the null hypothesis could be bad, or there could be many other things we have not considered.\n",
    "- There is ***a lot*** of mis-use and abuse of p-values in the scientific literature. Take a quick scan of [this](https://fivethirtyeight.com/features/statisticians-found-one-thing-they-can-agree-on-its-time-to-stop-misusing-p-values/) and [this](https://www.wikiwand.com/en/Misuse_of_p-values) during class, and read thoroughly in your own time. "
   ]
  },
  {
   "cell_type": "markdown",
   "metadata": {
    "editable": true,
    "slideshow": {
     "slide_type": "notes"
    },
    "tags": []
   },
   "source": [
    "Note: Vanderbilt does Ivezic 4.7 here too, but we don't have time!  They also do Ivezic 4.8 here, but we did that in Lecture 2."
   ]
  }
 ],
 "metadata": {
  "anaconda-cloud": {},
  "celltoolbar": "Slideshow",
  "kernelspec": {
   "display_name": "Python 3 (ipykernel)",
   "language": "python",
   "name": "python3"
  },
  "language_info": {
   "codemirror_mode": {
    "name": "ipython",
    "version": 3
   },
   "file_extension": ".py",
   "mimetype": "text/x-python",
   "name": "python",
   "nbconvert_exporter": "python",
   "pygments_lexer": "ipython3",
   "version": "3.12.5"
  },
  "rise": {
   "scroll": true
  }
 },
 "nbformat": 4,
 "nbformat_minor": 4
}

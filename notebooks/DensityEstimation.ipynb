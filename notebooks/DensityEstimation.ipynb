{
 "cells": [
  {
   "cell_type": "markdown",
   "metadata": {
    "editable": true,
    "slideshow": {
     "slide_type": "slide"
    },
    "tags": []
   },
   "source": [
    "# Density Estimation\n",
    "\n",
    "Gordon Richards (2016, 2018, 2020, 2022, 2024)\n",
    "\n",
    "With updates to my own class from [Stephen Taylor's class at Vanderbilt](https://github.com/VanderbiltAstronomy/astr_8070_s24).\n",
    "\n",
    "\n",
    "#### Reading:\n",
    "\n",
    "- [Textbook](http://press.princeton.edu/titles/10159.html) Chapter 6."
   ]
  },
  {
   "cell_type": "markdown",
   "metadata": {
    "editable": true,
    "slideshow": {
     "slide_type": "slide"
    },
    "tags": []
   },
   "source": [
    "  \n",
    "This week we will cover two unsupervised learning processes: density estimation and clustering; specifically  \n",
    "* Non-parametric Density Estimation, specifically Kernel Density Estimation (KDE)\n",
    "* $k$-Nearest Neighbor Density Estimation\n",
    "* Parametric Density Estimation, specifically Gaussian Mixture Models (GMM)\n",
    "* Clustering algorithms, particularly $K$-means and DBSCAN\n",
    "\n",
    "Along the way we will have asides on\n",
    "* validation\n",
    "* bias, precision, and accuracy\n",
    "* order notation\n",
    "* trees\n",
    "* setting up N-dimensional grids"
   ]
  },
  {
   "cell_type": "markdown",
   "metadata": {
    "editable": true,
    "slideshow": {
     "slide_type": "slide"
    },
    "tags": []
   },
   "source": [
    "## Contents\n",
    "* [Density Estimation](#one)\n",
    "* [Bandwidth Determination](#two)\n",
    "* [2-D Histograms](#three)\n",
    "* [Nearest Neighbors](#four)\n",
    "* [Accuracy](#five)\n",
    "* [Trees](#six)\n",
    "* [Creating a 2-D Grid](#seven)"
   ]
  },
  {
   "cell_type": "markdown",
   "metadata": {
    "editable": true,
    "slideshow": {
     "slide_type": "slide"
    },
    "tags": []
   },
   "source": [
    "## Density Estimation  <a class=\"anchor\" id=\"one\"></a>\n",
    "\n",
    "Inferring the pdf of a sample of data is known as *density estimation*.  Essentially we are smoothing the data to correct for the finiteness of our sample and to better recover the underlying distribution.\n",
    "\n",
    "Density estimation is useful because:\n",
    "- identifying low probability regions can help uncover rare sources. \n",
    "- if the data can be divided into sub-samples, one can estimate the pdf for each subsample and, in turn determine classifications for new objects."
   ]
  },
  {
   "cell_type": "markdown",
   "metadata": {
    "editable": true,
    "slideshow": {
     "slide_type": "fragment"
    },
    "tags": []
   },
   "source": [
    "*Nonparametric* density estimation is useful when we know nothing about the underlying distribution of the data since we don't have to specify a model.  This flexibility allows us to capture the shape of the distribution well, at the expense of more difficulty interpreting the results.\n",
    "\n",
    "[*Kernel Density Estimation (KDE)*](https://en.wikipedia.org/wiki/Kernel_density_estimation) is the standard approach for non-parametric density estimation (and, incidentally, is something that we have been doing in my group for about 20 years now).\n",
    "\n",
    "Let's start by recalling the experiment that we did with 1-D histograms in the first week of class. "
   ]
  },
  {
   "cell_type": "code",
   "execution_count": null,
   "metadata": {
    "editable": true,
    "slideshow": {
     "slide_type": "slide"
    },
    "tags": []
   },
   "outputs": [],
   "source": [
    "# Modified from Ivezic, Figure 6.1, modified by GTR\n",
    "# Author: Jake VanderPlas\n",
    "# License: BSD\n",
    "#   The figure produced by this code is published in the textbook\n",
    "#   \"Statistics, Data Mining, and Machine Learning in Astronomy\" (2013)\n",
    "#   For more information, see http://astroML.github.com\n",
    "#   To report a bug or issue, use the following forum:\n",
    "#    https://groups.google.com/forum/#!forum/astroml-general\n",
    "import numpy as np\n",
    "from matplotlib import pyplot as plt\n",
    "from scipy import stats"
   ]
  },
  {
   "cell_type": "code",
   "execution_count": null,
   "metadata": {
    "editable": true,
    "slideshow": {
     "slide_type": "slide"
    },
    "tags": []
   },
   "outputs": [],
   "source": [
    "#------------------------------------------------------------\n",
    "# Draw the random data\n",
    "np.random.seed(1)\n",
    "x = np.concatenate([np.random.normal(-0.5, 0.3, size=14), np.random.normal(1, 0.3, size=7)])"
   ]
  },
  {
   "cell_type": "code",
   "execution_count": null,
   "metadata": {
    "editable": true,
    "slideshow": {
     "slide_type": "slide"
    },
    "tags": []
   },
   "outputs": [],
   "source": [
    "#------------------------------------------------------------\n",
    "# First figure: silly histogram binning\n",
    "fig1 = plt.figure(figsize=(8, 4))\n",
    "fig1.subplots_adjust(left=0.12, right=0.95, wspace=0.05, bottom=0.15, top=0.9, hspace=0.05)\n",
    "\n",
    "FC = '#6666FF'\n",
    "XLIM = (-2, 2.9)\n",
    "YLIM = (-0.09, 1.1)\n",
    "\n",
    "ax = fig1.add_subplot(121)\n",
    "bins = np.linspace(-1.8, 2.7, 13)\n",
    "ax.hist(x, bins=bins, density=True, histtype='stepfilled', fc='k', alpha=0.3)\n",
    "ax.plot(XLIM, [0, 0], '-k', lw=1)\n",
    "ax.plot(x, 0 * x - 0.05, '+k')\n",
    "ax.set_xlim(XLIM)\n",
    "ax.set_ylim(YLIM)\n",
    "ax.set_xlabel('$x$')\n",
    "ax.set_ylabel('$p(x)$')\n",
    "\n",
    "#Shift bin centers by 0.25\n",
    "ax = fig1.add_subplot(122)\n",
    "ax.yaxis.set_major_formatter(plt.NullFormatter())\n",
    "ax.hist(x, bins=bins + 0.25, density=True, histtype='stepfilled', fc='k', alpha=0.3)\n",
    "ax.plot(XLIM, [0, 0], '-k', lw=1)\n",
    "ax.plot(x, 0 * x - 0.05, '+k')\n",
    "ax.set_xlim(XLIM)\n",
    "ax.set_ylim(YLIM)\n",
    "ax.set_xlabel('$x$')\n",
    "\n",
    "plt.show()"
   ]
  },
  {
   "cell_type": "markdown",
   "metadata": {
    "editable": true,
    "slideshow": {
     "slide_type": "fragment"
    },
    "tags": []
   },
   "source": [
    "The underlying distribution in both panels is the same, that is the data points that make up the histogram are the same.  All we have done is shifted the locations of the bins by 0.25.\n",
    "As we saw in Lecture 2, the choice of bin centers can really change the histogram that we make.\n",
    "\n",
    "The next panels are what happens if we center the bins on each point.  This is an example of kernel density estimation using a \"top-hat\" kernel.  It is a good description of the data, but is pretty ugly."
   ]
  },
  {
   "cell_type": "code",
   "execution_count": null,
   "metadata": {
    "editable": true,
    "slideshow": {
     "slide_type": "slide"
    },
    "tags": []
   },
   "outputs": [],
   "source": [
    "fig1b = plt.figure(figsize=(8, 4))\n",
    "fig1b.subplots_adjust(left=0.12, right=0.95, wspace=0.05, bottom=0.1, top=0.95, hspace=0.05)\n",
    "\n",
    "ax = fig1b.add_subplot(111)\n",
    "ax.xaxis.set_major_formatter(plt.NullFormatter())\n",
    "binwidth = bins[1] - bins[0]\n",
    "x_plot = np.linspace(-4, 4, 1000)\n",
    "y_plot = (abs(x_plot - x[:, None]) <= 0.5 * binwidth).astype(float)\n",
    "y_plot /= (binwidth * len(x))\n",
    "ax.fill(x_plot, y_plot.sum(0), ec='k', lw=1, fc='k', alpha=0.3)\n",
    "ax.plot(x_plot, y_plot.T, '-k', lw=1)\n",
    "ax.plot(x, 0 * x - 0.05, '+k')\n",
    "ax.set_xlim(XLIM)\n",
    "ax.set_ylim(YLIM)\n",
    "ax.set_ylabel('$p(x)$')"
   ]
  },
  {
   "cell_type": "markdown",
   "metadata": {
    "editable": true,
    "slideshow": {
     "slide_type": "fragment"
    },
    "tags": []
   },
   "source": [
    "We can make it look nicer by choosing a different kernel.  That is by choosing a different bin shape.  The next 3 plots show KDEs using **Gaussian kernels** with different width Gaussians."
   ]
  },
  {
   "cell_type": "code",
   "execution_count": null,
   "metadata": {
    "editable": true,
    "slideshow": {
     "slide_type": "slide"
    },
    "tags": []
   },
   "outputs": [],
   "source": [
    "#------------------------------------------------------------\n",
    "# First figure: transition to KDE\n",
    "fig2 = plt.figure(figsize=(8, 8))\n",
    "fig2.subplots_adjust(left=0.12, right=0.95, wspace=0.05, bottom=0.0, top=1.0, hspace=0.05)\n",
    "\n",
    "ax = fig2.add_subplot(311)\n",
    "ax.xaxis.set_major_formatter(plt.NullFormatter())\n",
    "ax.yaxis.set_major_formatter(plt.NullFormatter())\n",
    "binwidth = bins[1] - bins[0]\n",
    "x_plot = np.linspace(-4, 4, 1000)\n",
    "y_plot = binwidth * stats.norm.pdf(x_plot, x[:, None], 0.1)\n",
    "y_plot /= (binwidth * len(x))\n",
    "ax.fill(x_plot, y_plot.sum(0), ec='k', lw=1, fc='k', alpha=0.3)\n",
    "ax.plot(x_plot, y_plot.T, '-k', lw=1)\n",
    "ax.plot(x, 0 * x - 0.05, '+k')\n",
    "ax.set_xlim(XLIM)\n",
    "ax.set_ylim(YLIM)\n",
    "\n",
    "ax = fig2.add_subplot(312)\n",
    "ax.xaxis.set_major_formatter(plt.NullFormatter())\n",
    "binwidth = bins[1] - bins[0]\n",
    "x_plot = np.linspace(-4, 4, 1000)\n",
    "y_plot = binwidth * stats.norm.pdf(x_plot, x[:, None], 0.7)\n",
    "y_plot /= (binwidth * len(x))\n",
    "ax.fill(x_plot, y_plot.sum(0), ec='k', lw=1, fc='k', alpha=0.3)\n",
    "ax.plot(x_plot, 4 * y_plot.T, '-k', lw=1)\n",
    "ax.plot(x, 0 * x - 0.05, '+k')\n",
    "ax.set_xlim(XLIM)\n",
    "ax.set_ylim(YLIM)\n",
    "ax.set_ylabel('$p(x)$')\n",
    "ax.set_xlabel('$x$')\n",
    "\n",
    "ax = fig2.add_subplot(313)\n",
    "ax.yaxis.set_major_formatter(plt.NullFormatter())\n",
    "binwidth = bins[1] - bins[0]\n",
    "x_plot = np.linspace(-4, 4, 1000)\n",
    "y_plot = binwidth * stats.norm.pdf(x_plot, x[:, None], 0.2)\n",
    "y_plot /= (binwidth * len(x))\n",
    "ax.fill(x_plot, y_plot.sum(0), ec='k', lw=1, fc='k', alpha=0.3)\n",
    "ax.plot(x_plot, y_plot.T, '-k', lw=1)\n",
    "ax.plot(x, 0 * x - 0.05, '+k')\n",
    "ax.set_xlim(XLIM)\n",
    "ax.set_ylim(YLIM)\n",
    "ax.set_xlabel('$x$')"
   ]
  },
  {
   "cell_type": "markdown",
   "metadata": {
    "editable": true,
    "slideshow": {
     "slide_type": "slide"
    },
    "tags": []
   },
   "source": [
    "We can think of KDE as replacing the points with \"clouds\". Each cloud is described by the kernel $K(u)$, where $K(u)$ can be any function that is:\n",
    "- smooth,\n",
    "- postive definite,\n",
    "- normalizes to unity, \n",
    "- has zero mean,\n",
    "- has positive variance. \n",
    "\n",
    "The KDE plots above look better, but give us a \"Goldilocks\" problem.  The first plot uses a kernel that is too narrow.  The second is too wide.  The third is \"just right\"."
   ]
  },
  {
   "cell_type": "markdown",
   "metadata": {
    "editable": true,
    "slideshow": {
     "slide_type": "fragment"
    },
    "tags": []
   },
   "source": [
    "A common kernel is the Gaussian kernel that we just used above:\n",
    "\n",
    "$$K(u) = \\frac{1}{(2\\pi)^{D/2}}\\exp^{-u^2/2}$$\n",
    "\n",
    "Note that the \"$D$\" is necessary because while histograms are generally 1-D, the kind of Big Data analysis that we are interested in will be $N$-D."
   ]
  },
  {
   "cell_type": "markdown",
   "metadata": {
    "editable": true,
    "slideshow": {
     "slide_type": "fragment"
    },
    "tags": []
   },
   "source": [
    "Once a kernel is chosen the kernel density estimate at a given point, $x$, is given by \n",
    "$$ \\hat{f}(x) = \\frac{1}{Nh^D}\\sum_{i=1}^N K\\left(\\frac{d(x,x_i)}{h}\\right),$$\n",
    "where $\\hat{f}$ is an **estimator** of our distribution."
   ]
  },
  {
   "cell_type": "markdown",
   "metadata": {
    "editable": true,
    "slideshow": {
     "slide_type": "fragment"
    },
    "tags": []
   },
   "source": [
    "Where does this come from?  Well if you wanted to know the density of points you could compute\n",
    "$\\frac{\\sum_1^N\\delta (x-x_i)}{V},$ where $\\delta (x-x_i)$ is the Delta function, $V$ is the volume, and $N$ is the number of points.  In $D$-dimensional space a volume element is just $h^D$.  Then instead of representing our observation as a delta function, we represent it by our kernel function.  To normalize for the number of points, divide by $N$.\n",
    "\n",
    "The argument of $K$ is just some measure of the distance between $x$ and each $x_i$.  Normally $d(x,x_i) = (x-x_i)$.  For the gaussian kernel that makes $h=\\sigma$.  Take a second to convince yourself that that is the case.  So, you can see how $h$ represents the \"width\" or what is usually called the **bandwidth** in this context.\n",
    "\n",
    "You might wonder why the book uses $\\hat{f}$ instead of just $f$ since we already are using $f$ instead of $h$ (the true distribution). I don't know, but what they mean is that it is an estimator."
   ]
  },
  {
   "cell_type": "markdown",
   "metadata": {
    "editable": true,
    "slideshow": {
     "slide_type": "fragment"
    },
    "tags": []
   },
   "source": [
    "Here is a comparison of some different possible kernels.  The one that I use most commonly is actually an Epanechnikov kernel since the Gaussian and Exponential have rather long tails.\n",
    "\n",
    "![Ivezic, Figure 6.2](http://www.astroml.org/_images/fig_kernels_1.png)"
   ]
  },
  {
   "cell_type": "markdown",
   "metadata": {
    "editable": true,
    "slideshow": {
     "slide_type": "fragment"
    },
    "tags": []
   },
   "source": [
    "We won't go through the math, but it turns out that the Epanechnikov kernel is \"optimal\" in the sense of minimizing the variance.  That kernel is given by $$K(x) = \\frac{3}{4}(1-x^2),$$\n",
    "for $|x|\\le 1$ and 0 otherwise. Below is the code that produces the plot above.  \n",
    "\n",
    "<font color='red'>Add the Epanechnikov kernel to it in the color and linestyle of your choice by modifying the cell below.</font>"
   ]
  },
  {
   "cell_type": "code",
   "execution_count": null,
   "metadata": {
    "editable": true,
    "slideshow": {
     "slide_type": "slide"
    },
    "tags": []
   },
   "outputs": [],
   "source": [
    "# Complete and Execute\n",
    "# Author: Jake VanderPlas\n",
    "# License: BSD\n",
    "#   The figure produced by this code is published in the textbook\n",
    "#   \"Statistics, Data Mining, and Machine Learning in Astronomy\" (2013)\n",
    "#   For more information, see http://astroML.github.com\n",
    "#   To report a bug or issue, use the following forum:\n",
    "#    https://groups.google.com/forum/#!forum/astroml-general\n",
    "import numpy as np\n",
    "from matplotlib import pyplot as plt\n",
    "\n",
    "#------------------------------------------------------------\n",
    "# Compute Kernels.\n",
    "xgrid = np.linspace(-5, 5, 10000)\n",
    "dx = xgrid[1] - xgrid[0]\n",
    "\n",
    "gauss = (1. / np.sqrt(2 * np.pi)) * np.exp(-0.5 * xgrid ** 2)\n",
    "\n",
    "exp = 0.5 * np.exp(-abs(xgrid))\n",
    "\n",
    "tophat = 0.5 * np.ones_like(xgrid)\n",
    "tophat[abs(xgrid) > 1] = 0 # Range of the tophat kernel\n",
    "\n",
    "ep = ____  # Add the Epanechnikov kernel function\n",
    "ep[____]=0 # Set the range of the kernel\n",
    "\n",
    "#------------------------------------------------------------\n",
    "# Plot the kernels\n",
    "fig = plt.figure(figsize=(5, 3.75))\n",
    "ax = fig.add_subplot(111)\n",
    "\n",
    "ax.plot(xgrid, gauss, '-', c='black', lw=3, label='Gaussian')\n",
    "ax.plot(xgrid, exp, '-', c='#666666', lw=2, label='Exponential')\n",
    "ax.plot(xgrid, tophat, '-', c='#999999', lw=1, label='Top-hat')\n",
    "ax.plot(____,____,____,____,label='Epanechnikov')  # Add the Epanechnikov kernel to the plot\n",
    "\n",
    "ax.legend(loc=1)\n",
    "\n",
    "ax.set_xlabel('$u$')\n",
    "ax.set_ylabel('$K(u)$')\n",
    "\n",
    "ax.set_xlim(-5, 5)\n",
    "ax.set_ylim(0, 0.8001)\n",
    "plt.show()"
   ]
  },
  {
   "cell_type": "markdown",
   "metadata": {
    "editable": true,
    "slideshow": {
     "slide_type": "slide"
    },
    "tags": []
   },
   "source": [
    "### Bandwidth Determination <a class=\"anchor\" id=\"two\"></a>\n",
    "\n",
    "When we first discussed histograms and KDE we talked about theoretical computation of optimal bandwidths.  Let's now look at how we can empirically determine the optimal bandwidth through [cross validation](https://en.wikipedia.org/wiki/Cross-validation_(statistics)).\n",
    "\n",
    "To avoid fooling ourselves into thinking our model is better than it is, we set aside some of the data as the \"***test***\" set--that provides an independent check on the fit from the ***training data***. \n",
    "\n",
    "That's fine if our model has no parameters, or has parameters that are all fixed ahead of time.  But what if we want to try to use the data to not only fit a model, but decide what the best model parameters are?  In that case, we need to set aside some of the training data as a \"***validation***\" set.  \n",
    "\n",
    "However, not only does that leave us even less data for training, but it also means that it matters which objects are in each of the training, validation, and test sets.  We can solve both of these problems with **cross validation**."
   ]
  },
  {
   "cell_type": "markdown",
   "metadata": {
    "editable": true,
    "slideshow": {
     "slide_type": "fragment"
    },
    "tags": []
   },
   "source": [
    "With our KDE example, we are just trying to map the density, not predict the value, so we really only need two sets: training and validation. There are a number of different ways to do this.\n",
    "\n",
    "1. You could **randomly sample** to decide which data goes into the training or test sets. We don't just do this once, but rather many times so that each data point is treated both as a training point and as a test point at some stage.\n",
    "\n",
    "\n",
    "2. We could do this in a more ordered way (e.g., to make sure that each object gets sampled as training/test the same number of times) and do a **$K$-fold cross validation**. Here $K$ is the number of \"experiments\" that need to be done so that each data point appears in a test sample once.\n",
    "\n",
    "\n",
    "3. We can take $K$-fold cross validation to the extreme by having $K\\equiv N$, so that in each experiment we leave out just one object. This is called **\"Leave-One-Out\" cross validation**."
   ]
  },
  {
   "cell_type": "markdown",
   "metadata": {
    "editable": true,
    "slideshow": {
     "slide_type": "slide"
    },
    "tags": []
   },
   "source": [
    "### Illustration of Random Sampling\n",
    "![Random Sample Cross Validation Example; Remesan Figure 3.7](https://i.sstatic.net/4Lrff.png)"
   ]
  },
  {
   "cell_type": "code",
   "execution_count": null,
   "metadata": {
    "editable": true,
    "slideshow": {
     "slide_type": "notes"
    },
    "tags": []
   },
   "outputs": [],
   "source": [
    "from IPython.display import Image\n",
    "Image(url=\"https://i.sstatic.net/4Lrff.png\")"
   ]
  },
  {
   "cell_type": "markdown",
   "metadata": {
    "editable": true,
    "slideshow": {
     "slide_type": "slide"
    },
    "tags": []
   },
   "source": [
    "### Illustration of K-Fold Cross Validation\n",
    "![K-Fold Cross Validation Example; Remesan Figure 3.8](https://images.slideplayer.com/16/4977882/slides/slide_33.jpg)"
   ]
  },
  {
   "cell_type": "markdown",
   "metadata": {
    "editable": true,
    "slideshow": {
     "slide_type": "slide"
    },
    "tags": []
   },
   "source": [
    "### Illustration of Leave-One-Out Cross Validation\n",
    "![Leave-One-Out Cross Validation Example; Remesan Figure 3.9](http://images.slideplayer.com/16/4977882/slides/slide_35.jpg)"
   ]
  },
  {
   "cell_type": "markdown",
   "metadata": {
    "editable": true,
    "slideshow": {
     "slide_type": "slide"
    },
    "tags": []
   },
   "source": [
    "Let's go back to our problem of trying to determine the best bandwidth for our Kernel Density Estimate.  \n",
    "\n",
    "<font color='red'>We can do this in Scikit-Learn with [`GridSearchCV`](http://scikit-learn.org/0.17/modules/generated/sklearn.grid_search.GridSearchCV.html) and replot our histogram above as follows:</font>"
   ]
  },
  {
   "cell_type": "code",
   "execution_count": null,
   "metadata": {
    "editable": true,
    "slideshow": {
     "slide_type": "slide"
    },
    "tags": []
   },
   "outputs": [],
   "source": [
    "# Complete and Execute this cell to determine the bandwidth\n",
    "from sklearn.neighbors import KernelDensity\n",
    "from sklearn.model_selection import GridSearchCV\n",
    "bwrange = np.linspace(____, ____, ____) # Test 30 bandwidths from 0.1 to 1.0\n",
    "K = ____ # Do 5-fold cross validation\n",
    "grid = GridSearchCV(KernelDensity(), {'bandwidth': ____}, cv=____) # Try each bandwidth with K-folds\n",
    "grid.fit(x[:, None]) #Fit the histogram data that we started the lecture with.\n",
    "h_opt = grid.best_params_['bandwidth']\n",
    "print(h_opt)"
   ]
  },
  {
   "cell_type": "code",
   "execution_count": null,
   "metadata": {
    "editable": true,
    "slideshow": {
     "slide_type": "slide"
    },
    "tags": []
   },
   "outputs": [],
   "source": [
    "# Execute this cell to see the new \"histogram\"\n",
    "fig2 = plt.figure(figsize=(5, 5))\n",
    "ax = fig2.add_subplot(111)\n",
    "ax.xaxis.set_major_formatter(plt.NullFormatter())\n",
    "ax.yaxis.set_major_formatter(plt.NullFormatter())\n",
    "binwidth = bins[1] - bins[0]\n",
    "x_grid = np.linspace(-4, 4, 1000)\n",
    "y_plot = binwidth * stats.norm.pdf(x_grid, x[:, None], h_opt)\n",
    "y_plot /= (binwidth * len(x))\n",
    "ax.fill(x_grid, y_plot.sum(0), ec='k', lw=1, fc='k', alpha=0.3)\n",
    "ax.plot(x_grid, y_plot.T, '-k', lw=1)\n",
    "ax.plot(x, 0 * x - 0.05, '+k')\n",
    "ax.set_xlim(XLIM)\n",
    "ax.set_ylim(YLIM)"
   ]
  },
  {
   "cell_type": "markdown",
   "metadata": {
    "editable": true,
    "slideshow": {
     "slide_type": "slide"
    },
    "tags": []
   },
   "source": [
    "## 2-D Histograms  <a class=\"anchor\" id=\"three\"></a>\n",
    "\n",
    "Here is some sample code using [`sklearn.neighbors.KernelDensity`](http://scikit-learn.org/stable/modules/generated/sklearn.neighbors.KernelDensity.html).  Play around with this and see how it works.  Make different variations of the plot.  (For example, try `bandwidth=0.01` and `bandwidth=1.0`.)  What we are doing here is using KDE to set the plot color to indicate the relative density of the points.  This is essentially a 2-D histogram."
   ]
  },
  {
   "cell_type": "code",
   "execution_count": null,
   "metadata": {
    "editable": true,
    "slideshow": {
     "slide_type": "slide"
    },
    "tags": []
   },
   "outputs": [],
   "source": [
    "import numpy as np\n",
    "from matplotlib import pyplot as plt\n",
    "from sklearn.neighbors import KernelDensity\n",
    "\n",
    "# Two 2-D normal distributions with offset centroids\n",
    "# See what happens when you make changes to the next 2 lines.\n",
    "X = np.concatenate([np.random.normal([-1,-1],[0.75,0.75],size=(1000,2)),np.random.normal([1,1],[1,1],size=(500,2))]) \n",
    "kde = KernelDensity(kernel='gaussian', bandwidth=0.2)\n",
    "kde.fit(X) #fit the model to the data\n",
    "\n",
    "u = v = np.linspace(-4,5,80)\n",
    "#Xgrid = np.vstack(map(np.ravel, np.meshgrid(u,v))).T\n",
    "Xgrid = np.vstack([np.ravel(arr) for arr in np.meshgrid(u, v)]).T\n",
    "dens = np.exp(kde.score_samples(Xgrid)) #evaluate the model on the grid\n",
    "\n",
    "plt.scatter(Xgrid[:,0],Xgrid[:,1], c=dens, cmap=\"Purples\", edgecolor=\"None\")\n",
    "plt.colorbar()"
   ]
  },
  {
   "cell_type": "markdown",
   "metadata": {
    "editable": true,
    "slideshow": {
     "slide_type": "slide"
    },
    "tags": []
   },
   "source": [
    "<font color='red'>Now copy the example from above to a new cell and splice in the cross validation code to produce a new plot with the \"optimal\" bandwidth.  Basically, splice in the lines of code for `GridSearchCV` between the lines setting `X` and instantiating `kde`.  Then replace the hardcoded bandwidth with the optimal value you computed.</font>"
   ]
  },
  {
   "cell_type": "markdown",
   "metadata": {
    "editable": true,
    "slideshow": {
     "slide_type": "skip"
    },
    "tags": []
   },
   "source": [
    "---"
   ]
  },
  {
   "cell_type": "markdown",
   "metadata": {
    "editable": true,
    "slideshow": {
     "slide_type": "slide"
    },
    "tags": []
   },
   "source": [
    "## Nearest-Neighbor Density Estimation  <a class=\"anchor\" id=\"four\"></a>\n",
    "\n",
    "Another very simple way to estimate the density of an $N$-dimensional distribution is to look to the nearest object (or the $K$ nearest objects) and compute their distances, $d_K$.  This is the [$K$-Nearest Neighbor](https://en.wikipedia.org/wiki/K-nearest_neighbors_algorithm) algorithm.  We'll see later that this is also a good method to use for classification.\n",
    "\n",
    "In this prescription, the density at a given point, $x$ is estimated as\n",
    "\n",
    "$$\\hat{f}_K(x) = \\frac{K}{V_D(d_K)}.$$\n",
    "\n",
    "$V_D(d)$ is given generically by $\\frac{2d^D\\pi^{D/2}}{D\\Gamma(D/2)}$ where $\\Gamma$ is the complete gamma function (Equation 3.58) and this formula reduces to the usual equations for area and volume in 2 and 3 dimensions, respectively."
   ]
  },
  {
   "cell_type": "markdown",
   "metadata": {
    "editable": true,
    "slideshow": {
     "slide_type": "fragment"
    },
    "tags": []
   },
   "source": [
    "We can simplify this to \n",
    "$$\\hat{f}_K(x) = \\frac{C}{d_K^D}$$\n",
    "since the constant, $C$, can be evaluated at the end.\n",
    "\n",
    "N.B. this estimator is **biased**.  What does that mean?"
   ]
  },
  {
   "attachments": {
    "520px-Accuracy_and_precision.svg.png": {
     "image/png": "[encoded data removed]"
    }
   },
   "cell_type": "markdown",
   "metadata": {
    "editable": true,
    "slideshow": {
     "slide_type": "slide"
    },
    "tags": []
   },
   "source": [
    "### Aside on Bias (Precision and Accuracy too)  <a class=\"anchor\" id=\"five\"></a>\n",
    "In this context, it means that our estimator is known to yield a value that is offset from the true value.  What is labeled as \"accuracy\" here is more correctly called \"bias\".  This isn't the usual way that you might think of the word, but if you think about it, the meanings are actually consistent.\n",
    "\n",
    "![520px-Accuracy_and_precision.svg.png](attachment:520px-Accuracy_and_precision.svg.png)"
   ]
  },
  {
   "attachments": {
    "Illustration-of-the-concepts-of-accuracy-precision-and-bias-a-High-bias-low-precision.png": {
     "image/png": "[encoded data removed]"
    }
   },
   "cell_type": "markdown",
   "metadata": {
    "editable": true,
    "slideshow": {
     "slide_type": "fragment"
    },
    "tags": []
   },
   "source": [
    "These figures illustrate the difference between bias and precision.  Panel **a** has high **bias** (which is bad) and low **precision** (also bad); it is not very **accurate**.  Panel **b** has low bias and low precision.  Panel **c** has high bias and high precision.  Panel **d** has low bias (which is good) and high precision (which is good); it is very accurate.\n",
    "\n",
    "![Illustration-of-the-concepts-of-accuracy-precision-and-bias-a-High-bias-low-precision.png](attachment:Illustration-of-the-concepts-of-accuracy-precision-and-bias-a-High-bias-low-precision.png)"
   ]
  },
  {
   "cell_type": "markdown",
   "metadata": {
    "editable": true,
    "slideshow": {
     "slide_type": "slide"
    },
    "tags": []
   },
   "source": [
    "Back to our (nearest-neighbor) density estimator:\n",
    "\n",
    "$$\\hat{f}_K(x) = \\frac{C}{d_K^D}.$$\n",
    "\n",
    "Because this is biased, we don't actually want the *nearest* neighbor, but rather we want something like the *5th* nearest neighbor (or larger).  For example see this figure from the wikipedia link above:\n",
    "\n",
    "![https://upload.wikimedia.org/wikipedia/commons/thumb/e/e7/KnnClassification.svg/200px-KnnClassification.svg.png](https://upload.wikimedia.org/wikipedia/commons/thumb/e/e7/KnnClassification.svg/200px-KnnClassification.svg.png)"
   ]
  },
  {
   "cell_type": "markdown",
   "metadata": {
    "editable": true,
    "slideshow": {
     "slide_type": "fragment"
    },
    "tags": []
   },
   "source": [
    "In fact, the error in the estimator can be reduced by considering *all* $K$ nearest neighbors:\n",
    "$$\\hat{f}_K(x) = \\frac{C}{\\sum_{i=1}^K d_i^D}$$\n",
    "\n",
    "See the [Scikit-Learn `neighbors` documentation](http://scikit-learn.org/stable/modules/neighbors.html) for more information."
   ]
  },
  {
   "cell_type": "markdown",
   "metadata": {
    "editable": true,
    "slideshow": {
     "slide_type": "slide"
    },
    "tags": []
   },
   "source": [
    "Ivezic, Figure 6.5 compares a Nearest Neighbor ($k=10$) with a KDE algorithm.  \n",
    "\n",
    "<font color='red'>See what happens as you increase the number of neighbors used.</font>"
   ]
  },
  {
   "cell_type": "code",
   "execution_count": null,
   "metadata": {
    "editable": true,
    "slideshow": {
     "slide_type": "slide"
    },
    "tags": []
   },
   "outputs": [],
   "source": [
    "# Based on Ivezic, Figure 6.5\n",
    "# Modified by GTR\n",
    "# Author: Jake VanderPlas\n",
    "# License: BSD\n",
    "#   The figure produced by this code is published in the textbook\n",
    "#   \"Statistics, Data Mining, and Machine Learning in Astronomy\" (2013)\n",
    "#   For more information, see http://astroML.github.com\n",
    "#   To report a bug or issue, use the following forum:\n",
    "#    https://groups.google.com/forum/#!forum/astroml-general\n",
    "import numpy as np\n",
    "from matplotlib import pyplot as plt\n",
    "from scipy import stats\n",
    "\n",
    "from astroML.density_estimation import KNeighborsDensity\n",
    "#from astroML.plotting import hist\n",
    "from astropy.visualization import hist\n",
    "\n",
    "from sklearn.neighbors import KernelDensity\n",
    "\n",
    "#------------------------------------------------------------\n",
    "# Generate our data: a mix of several Cauchy distributions\n",
    "#  this is the same data used in the Bayesian Blocks figure\n",
    "np.random.seed(0)\n",
    "N = 10000\n",
    "mu_gamma_f = [(5, 1.0, 0.1),\n",
    "              (7, 0.5, 0.5),\n",
    "              (9, 0.1, 0.1),\n",
    "              (12, 0.5, 0.2),\n",
    "              (14, 1.0, 0.1)]\n",
    "true_pdf = lambda x: sum([f * stats.cauchy(mu, gamma).pdf(x) for (mu, gamma, f) in mu_gamma_f])\n",
    "x = np.concatenate([stats.cauchy(mu, gamma).rvs(int(f * N)) for (mu, gamma, f) in mu_gamma_f])\n",
    "np.random.shuffle(x)\n",
    "x = x[x > -10]\n",
    "x = x[x < 30]\n",
    "\n",
    "#------------------------------------------------------------\n",
    "# plot the results\n",
    "fig = plt.figure(figsize=(10, 10))\n",
    "N = 5000\n",
    "k = 10 #Number of neighbors\n",
    "\n",
    "xN = x[:N]\n",
    "t = np.linspace(-10, 30, 1000)\n",
    "\n",
    "# Compute density with KDE\n",
    "kde = KernelDensity(bandwidth=0.1, kernel='gaussian')\n",
    "kde.fit(xN[:, None])\n",
    "dens_kde = np.exp(kde.score_samples(t[:, None]))\n",
    "\n",
    "# Compute density with Bayesian nearest neighbors\n",
    "nbrs = KNeighborsDensity('bayesian', n_neighbors=k)\n",
    "nbrs.fit(xN[:, None])\n",
    "dens_nbrs = nbrs.eval(t[:, None]) / N\n",
    "\n",
    "# plot the results\n",
    "plt.plot(t, true_pdf(t), ':', color='black', zorder=3, label=\"Generating Distribution\")\n",
    "plt.plot(xN, -0.005 * np.ones(len(xN)), '|k')\n",
    "plt.plot(t, dens_nbrs, '-', lw=1.5, color='gray', zorder=2, label=\"Nearest Neighbors (k=%i)\" % k)\n",
    "plt.plot(t, dens_kde, '-', color='black', zorder=3, label=\"Kernel Density (h=0.1)\")\n",
    "\n",
    "# label the plot\n",
    "#plt.text(0.02, 0.95, \"%i points\" % N, ha='left', va='top', transform=ax.transAxes)\n",
    "plt.ylabel('$p(x)$')\n",
    "plt.legend(loc='upper right')\n",
    "plt.xlim(0, 20)\n",
    "plt.ylim(-0.01, 0.4001)\n",
    "\n",
    "plt.show()"
   ]
  },
  {
   "cell_type": "markdown",
   "metadata": {
    "editable": true,
    "slideshow": {
     "slide_type": "slide"
    },
    "tags": []
   },
   "source": [
    "Nearest-neighbors are both pretty simple and pretty powerful.  But you can imagine that they could also be really slow if you have either a lot of points or want to consider a lot of neighbors as  you have to compute all of the pairwise distances!  You can certainly do this \"brute force\" computation, but the use of **trees** speeds things up considerably.\n",
    "\n",
    "We haven't talked about **order notation** yet, but now is a good time to introduce it.  If we say that something \"goes as $\\mathscr{O}(N)$\", that means that $N$ operations are needed.  If is it $\\mathscr{O}(N^2)$, then $N\\times N$ operations are needed.\n",
    "\n",
    "If we have $N$ samples with $D$ features, then brute force nearest neighbor goes as $\\mathscr{O}(DN)$.  That can be a very large number of operations and make our code run slow.  So, can we do it faster?"
   ]
  },
  {
   "cell_type": "markdown",
   "metadata": {
    "editable": true,
    "slideshow": {
     "slide_type": "slide"
    },
    "tags": []
   },
   "source": [
    "### Trees  <a class=\"anchor\" id=\"six\"></a>\n",
    "\n",
    "It seems like you would be stuck computing all of the distances to the neighbors, but consider this:\n",
    "\n",
    "> if point A is very distant from point B, and point B is very close to point C, then we know that points A and C are very distant.\n",
    "\n",
    "So, we just have to compute the A-B and B-C distances; we don't actually need to compute A-C."
   ]
  },
  {
   "cell_type": "markdown",
   "metadata": {
    "editable": true,
    "slideshow": {
     "slide_type": "fragment"
    },
    "tags": []
   },
   "source": [
    "We can take advantage of this using **trees**.  In 2-D we use a [**quad-tree**](https://en.wikipedia.org/wiki/Quadtree), which is illustrated in Ivezic, Figure 2.3 below.\n",
    "\n",
    "![Ivezic, Figure 2.3](http://www.astroml.org/_images/fig_quadtree_example_1.png)"
   ]
  },
  {
   "cell_type": "markdown",
   "metadata": {
    "editable": true,
    "slideshow": {
     "slide_type": "fragment"
    },
    "tags": []
   },
   "source": [
    "What is happening is that the data space gets broken down into smaller and smaller bins.  Then instead of computing the distances between each of the *objects*, we compute the distances between each of the *bins*.  We only compute the distances between objects if the bin distances are small enough to be considered further.  This process can speed up nearest neighbor finding considerably.  \n",
    "\n",
    "For a quad-tree we are specifically dividing the 2-D space into 4 equal \"nodes\" (children) until each box is either empty or has no more than some number of points.  The terminal nodes are called \"leaves\", thus the name \"tree\".  In 3-D we instead have **oct-trees**.  "
   ]
  },
  {
   "cell_type": "markdown",
   "metadata": {
    "editable": true,
    "slideshow": {
     "slide_type": "fragment"
    },
    "tags": []
   },
   "source": [
    "We can generalize this to $k$ dimensions but the scaling as $2^D$ quickly gets out of control and is called the [**curse of dimensionality**](https://en.wikipedia.org/wiki/Curse_of_dimensionality) (more on that next week).   So for so-called [**$k$D-tree**](https://en.wikipedia.org/wiki/K-d_tree) we instead use *binary* trees where each node has 2 children instead of 4.   $k$D trees further split the *data* into two rather than the box into two.  A $k$D-tree is illustrated in Ivezic, Figure 2.4 below.\n",
    "\n",
    "![Ivezic, Figure 2.4](http://www.astroml.org/_images/fig_kdtree_example_1.png)"
   ]
  },
  {
   "cell_type": "markdown",
   "metadata": {
    "editable": true,
    "slideshow": {
     "slide_type": "fragment"
    },
    "tags": []
   },
   "source": [
    "Note that empty leaves are not created because you are always splitting the data, not the space in half."
   ]
  },
  {
   "cell_type": "markdown",
   "metadata": {
    "editable": true,
    "slideshow": {
     "slide_type": "slide"
    },
    "tags": []
   },
   "source": [
    "For $k$D trees no $D$-dimensional distances need to be computed, so once the tree is constructed, the nearest neighbor determination is only $\\mathscr{O}(D \\log N)$.\n",
    "\n",
    "In Scikit-Learn $k$D Trees are implemented in [http://scikit-learn.org/stable/modules/generated/sklearn.neighbors.KDTree.html#sklearn.neighbors.KDTree](http://scikit-learn.org/stable/modules/generated/sklearn.neighbors.KDTree.html#sklearn.neighbors.KDTree)\n",
    "\n",
    "As long as $D$ isn't *too* large ($\\lesssim 20$), this works well, but $k$D trees also suffer from the curse of dimensionality for large $D$ and go as $\\mathscr{O}(DN)$. In that case, we can use [**ball-trees**](https://en.wikipedia.org/wiki/Ball_tree) instead.  \n",
    "\n",
    "Instead of using Cartesian axes, ball-trees split the data into nesting hyper spheres.  This makes it more \"expensive\" to build the tree, but it makes finding the nearest neighbors faster $\\mathscr{O}(D \\log N)$.\n",
    "\n",
    "For more information on ball-trees in Scikit-Learn, see [http://scikit-learn.org/stable/modules/generated/sklearn.neighbors.BallTree.html#sklearn.neighbors.BallTree](http://scikit-learn.org/stable/modules/generated/sklearn.neighbors.BallTree.html#sklearn.neighbors.BallTree)\n",
    "\n",
    "An example from Ivezic is shown below\n",
    "![Ivezic, Figure 2.5](http://www.astroml.org/_images/fig_balltree_example_1.png)"
   ]
  },
  {
   "cell_type": "markdown",
   "metadata": {
    "editable": true,
    "slideshow": {
     "slide_type": "slide"
    },
    "tags": []
   },
   "source": [
    "### Creating an evaluation grid   <a class=\"anchor\" id=\"seven\"></a>\n",
    "\n",
    "Now let's look at nearest neighbors in 2-D.  Note that for 1-D we had to define the \"grid\" over which we evaluated the pdf and we did something like \n",
    "\n",
    "```xgrid = np.linspace(-10, 30, 1000)```\n",
    "\n",
    "We need to do the same in 2-D.  That seems easy enough, right?  If $x$ runs from 0 to 10 and $y$ runs from 0 to 10 and we want to evaluate in steps of 1 in each direction, then we just need to build a grid that includes the points, $(0,0), (1,0), (0,1) \\dots (10,9), (9,10), (10,10)$. \n",
    "\n",
    "As far as I know there is no simple tool that does this.  But we can use [`np.meshgrid()`](http://docs.scipy.org/doc/numpy/reference/generated/numpy.meshgrid.html) to help us as follows"
   ]
  },
  {
   "cell_type": "code",
   "execution_count": null,
   "metadata": {
    "editable": true,
    "slideshow": {
     "slide_type": "slide"
    },
    "tags": []
   },
   "outputs": [],
   "source": [
    "xgrid = np.linspace(0,10,11)\n",
    "ygrid = np.linspace(0,10,11)\n",
    "\n",
    "print(xgrid,ygrid)"
   ]
  },
  {
   "cell_type": "code",
   "execution_count": null,
   "metadata": {
    "editable": true,
    "slideshow": {
     "slide_type": "slide"
    },
    "tags": []
   },
   "outputs": [],
   "source": [
    "xv,yv = np.meshgrid(xgrid,ygrid)\n",
    "print(xv)\n",
    "print(yv)"
   ]
  },
  {
   "cell_type": "code",
   "execution_count": null,
   "metadata": {
    "editable": true,
    "slideshow": {
     "slide_type": "slide"
    },
    "tags": []
   },
   "outputs": [],
   "source": [
    "print(xv.ravel())\n",
    "print(yv.ravel())\n",
    "# Equivalent to flatten(), except for making a copy (or not) of the array"
   ]
  },
  {
   "cell_type": "code",
   "execution_count": null,
   "metadata": {
    "editable": true,
    "slideshow": {
     "slide_type": "slide"
    },
    "tags": []
   },
   "outputs": [],
   "source": [
    "xystack = np.vstack([xv.ravel(),yv.ravel()])\n",
    "print(xystack)"
   ]
  },
  {
   "cell_type": "code",
   "execution_count": null,
   "metadata": {
    "editable": true,
    "slideshow": {
     "slide_type": "slide"
    },
    "tags": []
   },
   "outputs": [],
   "source": [
    "Xgrid = xystack.T\n",
    "print(Xgrid)"
   ]
  },
  {
   "cell_type": "markdown",
   "metadata": {
    "editable": true,
    "slideshow": {
     "slide_type": "slide"
    },
    "tags": []
   },
   "source": [
    "Note that, while I said that there is no built in function for this, there are any number of ways to accomplish this!  For example, using `map`, `np.mgrid()`, transposes, etc.\n",
    "\n",
    "The code below accomplishes it in just one line, but I thought that it would make more sense if we broke it down like we did above."
   ]
  },
  {
   "cell_type": "code",
   "execution_count": null,
   "metadata": {
    "editable": true,
    "slideshow": {
     "slide_type": "slide"
    },
    "tags": []
   },
   "outputs": [],
   "source": [
    "# Comparison of KDE and K-Nearest Neighbors \"smoothing\"\n",
    "# Based on Ivezic, Figure 6.4, but modified by GTR\n",
    "\n",
    "# Author: Jake VanderPlas\n",
    "# License: BSD\n",
    "#   The figure produced by this code is published in the textbook\n",
    "#   \"Statistics, Data Mining, and Machine Learning in Astronomy\" (2013)\n",
    "#   For more information, see http://astroML.github.com\n",
    "#   To report a bug or issue, use the following forum:\n",
    "#    https://groups.google.com/forum/#!forum/astroml-general\n",
    "\n",
    "import numpy as np\n",
    "from matplotlib import pyplot as plt\n",
    "from matplotlib.colors import LogNorm\n",
    "\n",
    "from scipy.spatial import cKDTree\n",
    "\n",
    "from astroML.datasets import fetch_great_wall\n",
    "#from astroML.density_estimation import KDE, KNeighborsDensity\n",
    "from astroML.density_estimation import KNeighborsDensity\n",
    "from sklearn.neighbors import KernelDensity\n",
    "\n",
    "#------------------------------------------------------------\n",
    "# Fetch the great wall data\n",
    "X = fetch_great_wall()\n",
    "\n",
    "#------------------------------------------------------------\n",
    "# Create  the grid on which to evaluate the results\n",
    "Nx = 50\n",
    "Ny = 125\n",
    "xmin, xmax = (-375, -175)\n",
    "ymin, ymax = (-300, 200)\n",
    "\n",
    "#------------------------------------------------------------\n",
    "# Evaluate for several models\n",
    "#Xgrid = np.vstack(map(np.ravel, np.meshgrid(np.linspace(xmin, xmax, Nx), np.linspace(ymin, ymax, Ny)))).T\n",
    "Xgrid = np.vstack([np.ravel(arr) for arr in np.meshgrid(np.linspace(xmin, xmax, Nx), np.linspace(ymin, ymax, Ny) )]).T\n",
    "\n",
    "#print Xgrid\n",
    "\n",
    "#kde = KDE(metric='gaussian', h=5)\n",
    "kde = KernelDensity(kernel='gaussian', bandwidth=5)\n",
    "dens_KDE = np.exp(kde.fit(X).score_samples(Xgrid).reshape((Ny, Nx)))\n",
    "\n",
    "knn5 = KNeighborsDensity('bayesian', 5)\n",
    "dens_k5 = knn5.fit(X).eval(Xgrid).reshape((Ny, Nx))\n",
    "\n",
    "knn40 = KNeighborsDensity('bayesian', 40)\n",
    "dens_k40 = knn40.fit(X).eval(Xgrid).reshape((Ny, Nx))\n",
    "\n",
    "#------------------------------------------------------------\n",
    "# Plot the results\n",
    "fig = plt.figure(figsize=(10, 5))\n",
    "fig.subplots_adjust(left=0.12, right=0.95, bottom=0.2, top=0.9,\n",
    "                    hspace=0.01, wspace=0.01)\n",
    "\n",
    "# First plot: scatter the points\n",
    "ax1 = plt.subplot(221, aspect='equal')\n",
    "ax1.scatter(X[:, 1], X[:, 0], s=1, lw=0, c='k')\n",
    "ax1.text(0.95, 0.9, \"input\", ha='right', va='top',\n",
    "         transform=ax1.transAxes,\n",
    "         bbox=dict(boxstyle='round', ec='k', fc='w'))\n",
    "\n",
    "# Second plot: KDE\n",
    "ax2 = plt.subplot(222, aspect='equal')\n",
    "ax2.imshow(np.exp(dens_KDE.T), origin='lower', norm=LogNorm(),\n",
    "           extent=(ymin, ymax, xmin, xmax), cmap=plt.cm.binary)\n",
    "ax2.text(0.95, 0.9, \"KDE: Gaussian $(h=5)$\", ha='right', va='top',\n",
    "         transform=ax2.transAxes,\n",
    "         bbox=dict(boxstyle='round', ec='k', fc='w'))\n",
    "\n",
    "# Third plot: KNN, k=5\n",
    "ax3 = plt.subplot(223, aspect='equal')\n",
    "ax3.imshow(dens_k5.T, origin='lower', norm=LogNorm(),\n",
    "           extent=(ymin, ymax, xmin, xmax), cmap=plt.cm.binary)\n",
    "ax3.text(0.95, 0.9, \"$k$-neighbors $(k=5)$\", ha='right', va='top',\n",
    "         transform=ax3.transAxes,\n",
    "         bbox=dict(boxstyle='round', ec='k', fc='w'))\n",
    "\n",
    "# Fourth plot: KNN, k=40\n",
    "ax4 = plt.subplot(224, aspect='equal')\n",
    "ax4.imshow(dens_k40.T, origin='lower', norm=LogNorm(),\n",
    "           extent=(ymin, ymax, xmin, xmax), cmap=plt.cm.binary)\n",
    "ax4.text(0.95, 0.9, \"$k$-neighbors $(k=40)$\", ha='right', va='top',\n",
    "         transform=ax4.transAxes,\n",
    "         bbox=dict(boxstyle='round', ec='k', fc='w'))\n",
    "\n",
    "for ax in [ax1, ax2, ax3, ax4]:\n",
    "    ax.set_xlim(ymin, ymax - 0.01)\n",
    "    ax.set_ylim(xmin, xmax)\n",
    "\n",
    "for ax in [ax1, ax2]:\n",
    "    ax.xaxis.set_major_formatter(plt.NullFormatter())\n",
    "\n",
    "for ax in [ax3, ax4]:\n",
    "    ax.set_xlabel('$y$ (Mpc)')\n",
    "\n",
    "for ax in [ax2, ax4]:\n",
    "    ax.yaxis.set_major_formatter(plt.NullFormatter())\n",
    "\n",
    "for ax in [ax1, ax3]:\n",
    "    ax.set_ylabel('$x$ (Mpc)')\n",
    "\n",
    "plt.show()"
   ]
  },
  {
   "cell_type": "markdown",
   "metadata": {
    "editable": true,
    "slideshow": {
     "slide_type": "slide"
    },
    "tags": []
   },
   "source": [
    "What the \"right\" answer is depends on what you want to do with the data.  \n",
    "\n",
    "Next time we'll talk about Gaussian Mixture Models and K-Means Clustering.\n",
    "\n",
    "To get started for next time, let's learn how to read in a data sample that we are going to use.\n",
    "\n",
    "http://www.stat.cmu.edu/~larry/all-of-statistics/=data/faithful.dat"
   ]
  },
  {
   "cell_type": "code",
   "execution_count": null,
   "metadata": {
    "editable": true,
    "slideshow": {
     "slide_type": "slide"
    },
    "tags": []
   },
   "outputs": [],
   "source": [
    "#eruptions: Eruption time in mins\n",
    "#waiting: Waiting time to next eruption\n",
    "import pandas as pd\n",
    "df = pd.read_csv('../data/faithful.dat', delim_whitespace=True)\n",
    "df.head()"
   ]
  },
  {
   "cell_type": "markdown",
   "metadata": {
    "editable": true,
    "slideshow": {
     "slide_type": "slide"
    },
    "tags": []
   },
   "source": [
    "Make two \"fancy\" histograms illustrating the distribution of `x=df['eruptions']` and `y=df['waiting']` times.  Use `bins=\"freedman\"` and `histtype=\"step\"`."
   ]
  },
  {
   "cell_type": "code",
   "execution_count": null,
   "metadata": {
    "editable": true,
    "slideshow": {
     "slide_type": "slide"
    },
    "tags": []
   },
   "outputs": [],
   "source": [
    "from astropy.visualization import hist as ____\n",
    "\n",
    "fig = plt.figure(figsize=(14, 7))\n",
    "ax = fig.add_subplot(121)\n",
    "fancyhist(___,___,___)\n",
    "plt.xlabel('Eruptions')\n",
    "plt.ylabel('N')\n",
    "\n",
    "ax = fig.add_subplot(122)\n",
    "fancyhist(___,___,___)\n",
    "plt.xlabel('Waiting')\n",
    "plt.ylabel('N')"
   ]
  },
  {
   "cell_type": "markdown",
   "metadata": {
    "editable": true,
    "slideshow": {
     "slide_type": "slide"
    },
    "tags": []
   },
   "source": [
    "Now make a 2-D scatter plot with `plt.scatter()`."
   ]
  },
  {
   "cell_type": "code",
   "execution_count": null,
   "metadata": {
    "editable": true,
    "raw_mimetype": "",
    "slideshow": {
     "slide_type": "slide"
    },
    "tags": []
   },
   "outputs": [],
   "source": [
    "plt.____(____,____)\n",
    "plt.xlabel('Eruptions')\n",
    "plt.ylabel('Waiting')"
   ]
  }
 ],
 "metadata": {
  "anaconda-cloud": {},
  "celltoolbar": "Slideshow",
  "kernelspec": {
   "display_name": "Python 3 (ipykernel)",
   "language": "python",
   "name": "python3"
  },
  "language_info": {
   "codemirror_mode": {
    "name": "ipython",
    "version": 3
   },
   "file_extension": ".py",
   "mimetype": "text/x-python",
   "name": "python",
   "nbconvert_exporter": "python",
   "pygments_lexer": "ipython3",
   "version": "3.12.5"
  },
  "rise": {
   "scroll": true
  }
 },
 "nbformat": 4,
 "nbformat_minor": 4
}
